{
 "cells": [
  {
   "cell_type": "code",
   "execution_count": 1,
   "id": "ec71c59a",
   "metadata": {},
   "outputs": [],
   "source": [
    "#pip install vk_api"
   ]
  },
  {
   "cell_type": "code",
   "execution_count": 2,
   "id": "de729b55",
   "metadata": {},
   "outputs": [
    {
     "name": "stdout",
     "output_type": "stream",
     "text": [
      "Requirement already satisfied: vk in c:\\programdata\\anaconda3\\lib\\site-packages (3.0)\n",
      "Requirement already satisfied: requests~=2.24 in c:\\programdata\\anaconda3\\lib\\site-packages (from vk) (2.26.0)\n",
      "Requirement already satisfied: urllib3<1.27,>=1.21.1 in c:\\programdata\\anaconda3\\lib\\site-packages (from requests~=2.24->vk) (1.26.7)\n",
      "Requirement already satisfied: charset-normalizer~=2.0.0 in c:\\programdata\\anaconda3\\lib\\site-packages (from requests~=2.24->vk) (2.0.4)\n",
      "Requirement already satisfied: idna<4,>=2.5 in c:\\programdata\\anaconda3\\lib\\site-packages (from requests~=2.24->vk) (3.2)\n",
      "Requirement already satisfied: certifi>=2017.4.17 in c:\\programdata\\anaconda3\\lib\\site-packages (from requests~=2.24->vk) (2021.10.8)\n",
      "Note: you may need to restart the kernel to use updated packages.\n"
     ]
    },
    {
     "name": "stderr",
     "output_type": "stream",
     "text": [
      "WARNING: Ignoring invalid distribution -ckaging (c:\\programdata\\anaconda3\\lib\\site-packages)\n",
      "WARNING: Ignoring invalid distribution - (c:\\programdata\\anaconda3\\lib\\site-packages)\n",
      "WARNING: Ignoring invalid distribution -eaborn (c:\\programdata\\anaconda3\\lib\\site-packages)\n",
      "WARNING: Ignoring invalid distribution -ckaging (c:\\programdata\\anaconda3\\lib\\site-packages)\n",
      "WARNING: Ignoring invalid distribution -ackaging (c:\\programdata\\anaconda3\\lib\\site-packages)\n",
      "WARNING: Ignoring invalid distribution -ckaging (c:\\programdata\\anaconda3\\lib\\site-packages)\n",
      "WARNING: Ignoring invalid distribution - (c:\\programdata\\anaconda3\\lib\\site-packages)\n",
      "WARNING: Ignoring invalid distribution -eaborn (c:\\programdata\\anaconda3\\lib\\site-packages)\n",
      "WARNING: Ignoring invalid distribution -ckaging (c:\\programdata\\anaconda3\\lib\\site-packages)\n",
      "WARNING: Ignoring invalid distribution -ackaging (c:\\programdata\\anaconda3\\lib\\site-packages)\n",
      "WARNING: Ignoring invalid distribution -ckaging (c:\\programdata\\anaconda3\\lib\\site-packages)\n",
      "WARNING: Ignoring invalid distribution - (c:\\programdata\\anaconda3\\lib\\site-packages)\n",
      "WARNING: Ignoring invalid distribution -eaborn (c:\\programdata\\anaconda3\\lib\\site-packages)\n",
      "WARNING: Ignoring invalid distribution -ckaging (c:\\programdata\\anaconda3\\lib\\site-packages)\n",
      "WARNING: Ignoring invalid distribution -ackaging (c:\\programdata\\anaconda3\\lib\\site-packages)\n",
      "WARNING: Ignoring invalid distribution -ckaging (c:\\programdata\\anaconda3\\lib\\site-packages)\n",
      "WARNING: Ignoring invalid distribution - (c:\\programdata\\anaconda3\\lib\\site-packages)\n",
      "WARNING: Ignoring invalid distribution -eaborn (c:\\programdata\\anaconda3\\lib\\site-packages)\n",
      "WARNING: Ignoring invalid distribution -ckaging (c:\\programdata\\anaconda3\\lib\\site-packages)\n",
      "WARNING: Ignoring invalid distribution -ackaging (c:\\programdata\\anaconda3\\lib\\site-packages)\n",
      "WARNING: Ignoring invalid distribution -ckaging (c:\\programdata\\anaconda3\\lib\\site-packages)\n",
      "WARNING: Ignoring invalid distribution - (c:\\programdata\\anaconda3\\lib\\site-packages)\n",
      "WARNING: Ignoring invalid distribution -eaborn (c:\\programdata\\anaconda3\\lib\\site-packages)\n",
      "WARNING: Ignoring invalid distribution -ckaging (c:\\programdata\\anaconda3\\lib\\site-packages)\n",
      "WARNING: Ignoring invalid distribution -ackaging (c:\\programdata\\anaconda3\\lib\\site-packages)\n",
      "WARNING: Ignoring invalid distribution -ckaging (c:\\programdata\\anaconda3\\lib\\site-packages)\n",
      "WARNING: Ignoring invalid distribution - (c:\\programdata\\anaconda3\\lib\\site-packages)\n",
      "WARNING: Ignoring invalid distribution -eaborn (c:\\programdata\\anaconda3\\lib\\site-packages)\n",
      "WARNING: Ignoring invalid distribution -ckaging (c:\\programdata\\anaconda3\\lib\\site-packages)\n",
      "WARNING: Ignoring invalid distribution -ackaging (c:\\programdata\\anaconda3\\lib\\site-packages)\n"
     ]
    }
   ],
   "source": [
    "pip install vk"
   ]
  },
  {
   "cell_type": "code",
   "execution_count": 3,
   "id": "eeccf3c4",
   "metadata": {},
   "outputs": [
    {
     "name": "stdout",
     "output_type": "stream",
     "text": [
      "Requirement already satisfied: transliterate in c:\\programdata\\anaconda3\\lib\\site-packages (1.10.2)\n",
      "Requirement already satisfied: six>=1.1.0 in c:\\programdata\\anaconda3\\lib\\site-packages (from transliterate) (1.16.0)\n",
      "Note: you may need to restart the kernel to use updated packages.\n"
     ]
    },
    {
     "name": "stderr",
     "output_type": "stream",
     "text": [
      "WARNING: Ignoring invalid distribution -ckaging (c:\\programdata\\anaconda3\\lib\\site-packages)\n",
      "WARNING: Ignoring invalid distribution - (c:\\programdata\\anaconda3\\lib\\site-packages)\n",
      "WARNING: Ignoring invalid distribution -eaborn (c:\\programdata\\anaconda3\\lib\\site-packages)\n",
      "WARNING: Ignoring invalid distribution -ckaging (c:\\programdata\\anaconda3\\lib\\site-packages)\n",
      "WARNING: Ignoring invalid distribution -ackaging (c:\\programdata\\anaconda3\\lib\\site-packages)\n",
      "WARNING: Ignoring invalid distribution -ckaging (c:\\programdata\\anaconda3\\lib\\site-packages)\n",
      "WARNING: Ignoring invalid distribution - (c:\\programdata\\anaconda3\\lib\\site-packages)\n",
      "WARNING: Ignoring invalid distribution -eaborn (c:\\programdata\\anaconda3\\lib\\site-packages)\n",
      "WARNING: Ignoring invalid distribution -ckaging (c:\\programdata\\anaconda3\\lib\\site-packages)\n",
      "WARNING: Ignoring invalid distribution -ackaging (c:\\programdata\\anaconda3\\lib\\site-packages)\n",
      "WARNING: Ignoring invalid distribution -ckaging (c:\\programdata\\anaconda3\\lib\\site-packages)\n",
      "WARNING: Ignoring invalid distribution - (c:\\programdata\\anaconda3\\lib\\site-packages)\n",
      "WARNING: Ignoring invalid distribution -eaborn (c:\\programdata\\anaconda3\\lib\\site-packages)\n",
      "WARNING: Ignoring invalid distribution -ckaging (c:\\programdata\\anaconda3\\lib\\site-packages)\n",
      "WARNING: Ignoring invalid distribution -ackaging (c:\\programdata\\anaconda3\\lib\\site-packages)\n",
      "WARNING: Ignoring invalid distribution -ckaging (c:\\programdata\\anaconda3\\lib\\site-packages)\n",
      "WARNING: Ignoring invalid distribution - (c:\\programdata\\anaconda3\\lib\\site-packages)\n",
      "WARNING: Ignoring invalid distribution -eaborn (c:\\programdata\\anaconda3\\lib\\site-packages)\n",
      "WARNING: Ignoring invalid distribution -ckaging (c:\\programdata\\anaconda3\\lib\\site-packages)\n",
      "WARNING: Ignoring invalid distribution -ackaging (c:\\programdata\\anaconda3\\lib\\site-packages)\n",
      "WARNING: Ignoring invalid distribution -ckaging (c:\\programdata\\anaconda3\\lib\\site-packages)\n",
      "WARNING: Ignoring invalid distribution - (c:\\programdata\\anaconda3\\lib\\site-packages)\n",
      "WARNING: Ignoring invalid distribution -eaborn (c:\\programdata\\anaconda3\\lib\\site-packages)\n",
      "WARNING: Ignoring invalid distribution -ckaging (c:\\programdata\\anaconda3\\lib\\site-packages)\n",
      "WARNING: Ignoring invalid distribution -ackaging (c:\\programdata\\anaconda3\\lib\\site-packages)\n",
      "WARNING: Ignoring invalid distribution -ckaging (c:\\programdata\\anaconda3\\lib\\site-packages)\n",
      "WARNING: Ignoring invalid distribution - (c:\\programdata\\anaconda3\\lib\\site-packages)\n",
      "WARNING: Ignoring invalid distribution -eaborn (c:\\programdata\\anaconda3\\lib\\site-packages)\n",
      "WARNING: Ignoring invalid distribution -ckaging (c:\\programdata\\anaconda3\\lib\\site-packages)\n",
      "WARNING: Ignoring invalid distribution -ackaging (c:\\programdata\\anaconda3\\lib\\site-packages)\n"
     ]
    }
   ],
   "source": [
    "pip install transliterate"
   ]
  },
  {
   "cell_type": "code",
   "execution_count": 4,
   "id": "3c5e35d7",
   "metadata": {},
   "outputs": [
    {
     "name": "stdout",
     "output_type": "stream",
     "text": [
      "Requirement already satisfied: wordcloud in c:\\programdata\\anaconda3\\lib\\site-packages (1.8.2.2)\n",
      "Requirement already satisfied: matplotlib in c:\\programdata\\anaconda3\\lib\\site-packages (from wordcloud) (3.4.3)\n",
      "Requirement already satisfied: pillow in c:\\programdata\\anaconda3\\lib\\site-packages (from wordcloud) (8.4.0)\n",
      "Requirement already satisfied: numpy>=1.6.1 in c:\\programdata\\anaconda3\\lib\\site-packages (from wordcloud) (1.20.3)\n",
      "Requirement already satisfied: python-dateutil>=2.7 in c:\\programdata\\anaconda3\\lib\\site-packages (from matplotlib->wordcloud) (2.8.2)\n",
      "Requirement already satisfied: cycler>=0.10 in c:\\programdata\\anaconda3\\lib\\site-packages (from matplotlib->wordcloud) (0.10.0)\n",
      "Requirement already satisfied: pyparsing>=2.2.1 in c:\\programdata\\anaconda3\\lib\\site-packages (from matplotlib->wordcloud) (3.0.4)\n",
      "Requirement already satisfied: kiwisolver>=1.0.1 in c:\\programdata\\anaconda3\\lib\\site-packages (from matplotlib->wordcloud) (1.3.1)\n",
      "Requirement already satisfied: six in c:\\programdata\\anaconda3\\lib\\site-packages (from cycler>=0.10->matplotlib->wordcloud) (1.16.0)\n",
      "Note: you may need to restart the kernel to use updated packages.\n"
     ]
    },
    {
     "name": "stderr",
     "output_type": "stream",
     "text": [
      "WARNING: Ignoring invalid distribution -ckaging (c:\\programdata\\anaconda3\\lib\\site-packages)\n",
      "WARNING: Ignoring invalid distribution - (c:\\programdata\\anaconda3\\lib\\site-packages)\n",
      "WARNING: Ignoring invalid distribution -eaborn (c:\\programdata\\anaconda3\\lib\\site-packages)\n",
      "WARNING: Ignoring invalid distribution -ckaging (c:\\programdata\\anaconda3\\lib\\site-packages)\n",
      "WARNING: Ignoring invalid distribution -ackaging (c:\\programdata\\anaconda3\\lib\\site-packages)\n",
      "WARNING: Ignoring invalid distribution -ckaging (c:\\programdata\\anaconda3\\lib\\site-packages)\n",
      "WARNING: Ignoring invalid distribution - (c:\\programdata\\anaconda3\\lib\\site-packages)\n",
      "WARNING: Ignoring invalid distribution -eaborn (c:\\programdata\\anaconda3\\lib\\site-packages)\n",
      "WARNING: Ignoring invalid distribution -ckaging (c:\\programdata\\anaconda3\\lib\\site-packages)\n",
      "WARNING: Ignoring invalid distribution -ackaging (c:\\programdata\\anaconda3\\lib\\site-packages)\n",
      "WARNING: Ignoring invalid distribution -ckaging (c:\\programdata\\anaconda3\\lib\\site-packages)\n",
      "WARNING: Ignoring invalid distribution - (c:\\programdata\\anaconda3\\lib\\site-packages)\n",
      "WARNING: Ignoring invalid distribution -eaborn (c:\\programdata\\anaconda3\\lib\\site-packages)\n",
      "WARNING: Ignoring invalid distribution -ckaging (c:\\programdata\\anaconda3\\lib\\site-packages)\n",
      "WARNING: Ignoring invalid distribution -ackaging (c:\\programdata\\anaconda3\\lib\\site-packages)\n",
      "WARNING: Ignoring invalid distribution -ckaging (c:\\programdata\\anaconda3\\lib\\site-packages)\n",
      "WARNING: Ignoring invalid distribution - (c:\\programdata\\anaconda3\\lib\\site-packages)\n",
      "WARNING: Ignoring invalid distribution -eaborn (c:\\programdata\\anaconda3\\lib\\site-packages)\n",
      "WARNING: Ignoring invalid distribution -ckaging (c:\\programdata\\anaconda3\\lib\\site-packages)\n",
      "WARNING: Ignoring invalid distribution -ackaging (c:\\programdata\\anaconda3\\lib\\site-packages)\n",
      "WARNING: Ignoring invalid distribution -ckaging (c:\\programdata\\anaconda3\\lib\\site-packages)\n",
      "WARNING: Ignoring invalid distribution - (c:\\programdata\\anaconda3\\lib\\site-packages)\n",
      "WARNING: Ignoring invalid distribution -eaborn (c:\\programdata\\anaconda3\\lib\\site-packages)\n",
      "WARNING: Ignoring invalid distribution -ckaging (c:\\programdata\\anaconda3\\lib\\site-packages)\n",
      "WARNING: Ignoring invalid distribution -ackaging (c:\\programdata\\anaconda3\\lib\\site-packages)\n",
      "WARNING: Ignoring invalid distribution -ckaging (c:\\programdata\\anaconda3\\lib\\site-packages)\n",
      "WARNING: Ignoring invalid distribution - (c:\\programdata\\anaconda3\\lib\\site-packages)\n",
      "WARNING: Ignoring invalid distribution -eaborn (c:\\programdata\\anaconda3\\lib\\site-packages)\n",
      "WARNING: Ignoring invalid distribution -ckaging (c:\\programdata\\anaconda3\\lib\\site-packages)\n",
      "WARNING: Ignoring invalid distribution -ackaging (c:\\programdata\\anaconda3\\lib\\site-packages)\n"
     ]
    }
   ],
   "source": [
    "pip install wordcloud"
   ]
  },
  {
   "cell_type": "code",
   "execution_count": 5,
   "id": "7487886a",
   "metadata": {},
   "outputs": [
    {
     "name": "stdout",
     "output_type": "stream",
     "text": [
      "Requirement already satisfied: transformers in c:\\programdata\\anaconda3\\lib\\site-packages (4.27.4)\n",
      "Requirement already satisfied: packaging>=20.0 in c:\\programdata\\anaconda3\\lib\\site-packages (from transformers) (21.0)\n",
      "Requirement already satisfied: filelock in c:\\programdata\\anaconda3\\lib\\site-packages (from transformers) (3.3.1)\n",
      "Requirement already satisfied: tokenizers!=0.11.3,<0.14,>=0.11.1 in c:\\programdata\\anaconda3\\lib\\site-packages (from transformers) (0.13.2)\n",
      "Requirement already satisfied: requests in c:\\programdata\\anaconda3\\lib\\site-packages (from transformers) (2.26.0)\n",
      "Note: you may need to restart the kernel to use updated packages.\n"
     ]
    },
    {
     "name": "stderr",
     "output_type": "stream",
     "text": [
      "WARNING: Ignoring invalid distribution -ckaging (c:\\programdata\\anaconda3\\lib\\site-packages)\n",
      "WARNING: Ignoring invalid distribution - (c:\\programdata\\anaconda3\\lib\\site-packages)\n",
      "WARNING: Ignoring invalid distribution -eaborn (c:\\programdata\\anaconda3\\lib\\site-packages)\n",
      "WARNING: Ignoring invalid distribution -ckaging (c:\\programdata\\anaconda3\\lib\\site-packages)\n",
      "WARNING: Ignoring invalid distribution -ackaging (c:\\programdata\\anaconda3\\lib\\site-packages)\n",
      "WARNING: Ignoring invalid distribution -ckaging (c:\\programdata\\anaconda3\\lib\\site-packages)\n",
      "WARNING: Ignoring invalid distribution - (c:\\programdata\\anaconda3\\lib\\site-packages)\n",
      "WARNING: Ignoring invalid distribution -eaborn (c:\\programdata\\anaconda3\\lib\\site-packages)\n",
      "WARNING: Ignoring invalid distribution -ckaging (c:\\programdata\\anaconda3\\lib\\site-packages)\n",
      "WARNING: Ignoring invalid distribution -ackaging (c:\\programdata\\anaconda3\\lib\\site-packages)\n",
      "WARNING: Ignoring invalid distribution -ckaging (c:\\programdata\\anaconda3\\lib\\site-packages)\n",
      "WARNING: Ignoring invalid distribution - (c:\\programdata\\anaconda3\\lib\\site-packages)\n",
      "WARNING: Ignoring invalid distribution -eaborn (c:\\programdata\\anaconda3\\lib\\site-packages)\n",
      "WARNING: Ignoring invalid distribution -ckaging (c:\\programdata\\anaconda3\\lib\\site-packages)\n",
      "WARNING: Ignoring invalid distribution -ackaging (c:\\programdata\\anaconda3\\lib\\site-packages)\n",
      "WARNING: Ignoring invalid distribution -ckaging (c:\\programdata\\anaconda3\\lib\\site-packages)\n",
      "WARNING: Ignoring invalid distribution - (c:\\programdata\\anaconda3\\lib\\site-packages)\n",
      "WARNING: Ignoring invalid distribution -eaborn (c:\\programdata\\anaconda3\\lib\\site-packages)\n",
      "WARNING: Ignoring invalid distribution -ckaging (c:\\programdata\\anaconda3\\lib\\site-packages)\n",
      "WARNING: Ignoring invalid distribution -ackaging (c:\\programdata\\anaconda3\\lib\\site-packages)\n",
      "WARNING: Ignoring invalid distribution -ckaging (c:\\programdata\\anaconda3\\lib\\site-packages)\n",
      "WARNING: Ignoring invalid distribution - (c:\\programdata\\anaconda3\\lib\\site-packages)\n",
      "WARNING: Ignoring invalid distribution -eaborn (c:\\programdata\\anaconda3\\lib\\site-packages)\n",
      "WARNING: Ignoring invalid distribution -ckaging (c:\\programdata\\anaconda3\\lib\\site-packages)\n",
      "WARNING: Ignoring invalid distribution -ackaging (c:\\programdata\\anaconda3\\lib\\site-packages)\n",
      "WARNING: Ignoring invalid distribution -ckaging (c:\\programdata\\anaconda3\\lib\\site-packages)\n",
      "WARNING: Ignoring invalid distribution - (c:\\programdata\\anaconda3\\lib\\site-packages)\n",
      "WARNING: Ignoring invalid distribution -eaborn (c:\\programdata\\anaconda3\\lib\\site-packages)\n",
      "WARNING: Ignoring invalid distribution -ckaging (c:\\programdata\\anaconda3\\lib\\site-packages)\n",
      "WARNING: Ignoring invalid distribution -ackaging (c:\\programdata\\anaconda3\\lib\\site-packages)\n"
     ]
    },
    {
     "name": "stdout",
     "output_type": "stream",
     "text": [
      "Requirement already satisfied: tqdm>=4.27 in c:\\programdata\\anaconda3\\lib\\site-packages (from transformers) (4.62.3)\n",
      "Requirement already satisfied: pyyaml>=5.1 in c:\\programdata\\anaconda3\\lib\\site-packages (from transformers) (6.0)\n",
      "Requirement already satisfied: numpy>=1.17 in c:\\programdata\\anaconda3\\lib\\site-packages (from transformers) (1.20.3)\n",
      "Requirement already satisfied: huggingface-hub<1.0,>=0.11.0 in c:\\programdata\\anaconda3\\lib\\site-packages (from transformers) (0.13.3)\n",
      "Requirement already satisfied: regex!=2019.12.17 in c:\\programdata\\anaconda3\\lib\\site-packages (from transformers) (2021.8.3)\n",
      "Requirement already satisfied: typing-extensions>=3.7.4.3 in c:\\programdata\\anaconda3\\lib\\site-packages (from huggingface-hub<1.0,>=0.11.0->transformers) (3.10.0.2)\n",
      "Requirement already satisfied: pyparsing>=2.0.2 in c:\\programdata\\anaconda3\\lib\\site-packages (from packaging>=20.0->transformers) (3.0.4)\n",
      "Requirement already satisfied: colorama in c:\\programdata\\anaconda3\\lib\\site-packages (from tqdm>=4.27->transformers) (0.4.4)\n",
      "Requirement already satisfied: charset-normalizer~=2.0.0 in c:\\programdata\\anaconda3\\lib\\site-packages (from requests->transformers) (2.0.4)\n",
      "Requirement already satisfied: certifi>=2017.4.17 in c:\\programdata\\anaconda3\\lib\\site-packages (from requests->transformers) (2021.10.8)\n",
      "Requirement already satisfied: urllib3<1.27,>=1.21.1 in c:\\programdata\\anaconda3\\lib\\site-packages (from requests->transformers) (1.26.7)\n",
      "Requirement already satisfied: idna<4,>=2.5 in c:\\programdata\\anaconda3\\lib\\site-packages (from requests->transformers) (3.2)\n"
     ]
    }
   ],
   "source": [
    "pip install transformers"
   ]
  },
  {
   "cell_type": "code",
   "execution_count": 6,
   "id": "7c1cc6ce",
   "metadata": {},
   "outputs": [
    {
     "name": "stdout",
     "output_type": "stream",
     "text": [
      "Requirement already satisfied: torch in c:\\programdata\\anaconda3\\lib\\site-packages (2.0.0)\n",
      "Note: you may need to restart the kernel to use updated packages.Requirement already satisfied: jinja2 in c:\\programdata\\anaconda3\\lib\\site-packages (from torch) (2.11.3)\n",
      "Requirement already satisfied: typing-extensions in c:\\programdata\\anaconda3\\lib\\site-packages (from torch) (3.10.0.2)\n",
      "\n"
     ]
    },
    {
     "name": "stderr",
     "output_type": "stream",
     "text": [
      "WARNING: Ignoring invalid distribution -ckaging (c:\\programdata\\anaconda3\\lib\\site-packages)\n",
      "WARNING: Ignoring invalid distribution - (c:\\programdata\\anaconda3\\lib\\site-packages)\n"
     ]
    },
    {
     "name": "stdout",
     "output_type": "stream",
     "text": [
      "Requirement already satisfied: networkx in c:\\programdata\\anaconda3\\lib\\site-packages (from torch) (2.6.3)\n",
      "Requirement already satisfied: sympy in c:\\programdata\\anaconda3\\lib\\site-packages (from torch) (1.9)\n",
      "Requirement already satisfied: filelock in c:\\programdata\\anaconda3\\lib\\site-packages (from torch) (3.3.1)\n",
      "Requirement already satisfied: MarkupSafe>=0.23 in c:\\programdata\\anaconda3\\lib\\site-packages (from jinja2->torch) (1.1.1)\n",
      "Requirement already satisfied: mpmath>=0.19 in c:\\programdata\\anaconda3\\lib\\site-packages (from sympy->torch) (1.2.1)\n"
     ]
    },
    {
     "name": "stderr",
     "output_type": "stream",
     "text": [
      "WARNING: Ignoring invalid distribution -eaborn (c:\\programdata\\anaconda3\\lib\\site-packages)\n",
      "WARNING: Ignoring invalid distribution -ckaging (c:\\programdata\\anaconda3\\lib\\site-packages)\n",
      "WARNING: Ignoring invalid distribution -ackaging (c:\\programdata\\anaconda3\\lib\\site-packages)\n",
      "WARNING: Ignoring invalid distribution -ckaging (c:\\programdata\\anaconda3\\lib\\site-packages)\n",
      "WARNING: Ignoring invalid distribution - (c:\\programdata\\anaconda3\\lib\\site-packages)\n",
      "WARNING: Ignoring invalid distribution -eaborn (c:\\programdata\\anaconda3\\lib\\site-packages)\n",
      "WARNING: Ignoring invalid distribution -ckaging (c:\\programdata\\anaconda3\\lib\\site-packages)\n",
      "WARNING: Ignoring invalid distribution -ackaging (c:\\programdata\\anaconda3\\lib\\site-packages)\n",
      "WARNING: Ignoring invalid distribution -ckaging (c:\\programdata\\anaconda3\\lib\\site-packages)\n",
      "WARNING: Ignoring invalid distribution - (c:\\programdata\\anaconda3\\lib\\site-packages)\n",
      "WARNING: Ignoring invalid distribution -eaborn (c:\\programdata\\anaconda3\\lib\\site-packages)\n",
      "WARNING: Ignoring invalid distribution -ckaging (c:\\programdata\\anaconda3\\lib\\site-packages)\n",
      "WARNING: Ignoring invalid distribution -ackaging (c:\\programdata\\anaconda3\\lib\\site-packages)\n",
      "WARNING: Ignoring invalid distribution -ckaging (c:\\programdata\\anaconda3\\lib\\site-packages)\n",
      "WARNING: Ignoring invalid distribution - (c:\\programdata\\anaconda3\\lib\\site-packages)\n",
      "WARNING: Ignoring invalid distribution -eaborn (c:\\programdata\\anaconda3\\lib\\site-packages)\n",
      "WARNING: Ignoring invalid distribution -ckaging (c:\\programdata\\anaconda3\\lib\\site-packages)\n",
      "WARNING: Ignoring invalid distribution -ackaging (c:\\programdata\\anaconda3\\lib\\site-packages)\n",
      "WARNING: Ignoring invalid distribution -ckaging (c:\\programdata\\anaconda3\\lib\\site-packages)\n",
      "WARNING: Ignoring invalid distribution - (c:\\programdata\\anaconda3\\lib\\site-packages)\n",
      "WARNING: Ignoring invalid distribution -eaborn (c:\\programdata\\anaconda3\\lib\\site-packages)\n",
      "WARNING: Ignoring invalid distribution -ckaging (c:\\programdata\\anaconda3\\lib\\site-packages)\n",
      "WARNING: Ignoring invalid distribution -ackaging (c:\\programdata\\anaconda3\\lib\\site-packages)\n",
      "WARNING: Ignoring invalid distribution -ckaging (c:\\programdata\\anaconda3\\lib\\site-packages)\n",
      "WARNING: Ignoring invalid distribution - (c:\\programdata\\anaconda3\\lib\\site-packages)\n",
      "WARNING: Ignoring invalid distribution -eaborn (c:\\programdata\\anaconda3\\lib\\site-packages)\n",
      "WARNING: Ignoring invalid distribution -ckaging (c:\\programdata\\anaconda3\\lib\\site-packages)\n",
      "WARNING: Ignoring invalid distribution -ackaging (c:\\programdata\\anaconda3\\lib\\site-packages)\n"
     ]
    }
   ],
   "source": [
    "pip install torch"
   ]
  },
  {
   "cell_type": "code",
   "execution_count": 7,
   "id": "2986b852",
   "metadata": {},
   "outputs": [
    {
     "name": "stdout",
     "output_type": "stream",
     "text": [
      "Requirement already satisfied: umap in c:\\programdata\\anaconda3\\lib\\site-packages (0.1.1)\n",
      "Note: you may need to restart the kernel to use updated packages.\n"
     ]
    },
    {
     "name": "stderr",
     "output_type": "stream",
     "text": [
      "WARNING: Ignoring invalid distribution -ckaging (c:\\programdata\\anaconda3\\lib\\site-packages)\n",
      "WARNING: Ignoring invalid distribution - (c:\\programdata\\anaconda3\\lib\\site-packages)\n",
      "WARNING: Ignoring invalid distribution -eaborn (c:\\programdata\\anaconda3\\lib\\site-packages)\n",
      "WARNING: Ignoring invalid distribution -ckaging (c:\\programdata\\anaconda3\\lib\\site-packages)\n",
      "WARNING: Ignoring invalid distribution -ackaging (c:\\programdata\\anaconda3\\lib\\site-packages)\n",
      "WARNING: Ignoring invalid distribution -ckaging (c:\\programdata\\anaconda3\\lib\\site-packages)\n",
      "WARNING: Ignoring invalid distribution - (c:\\programdata\\anaconda3\\lib\\site-packages)\n",
      "WARNING: Ignoring invalid distribution -eaborn (c:\\programdata\\anaconda3\\lib\\site-packages)\n",
      "WARNING: Ignoring invalid distribution -ckaging (c:\\programdata\\anaconda3\\lib\\site-packages)\n",
      "WARNING: Ignoring invalid distribution -ackaging (c:\\programdata\\anaconda3\\lib\\site-packages)\n",
      "WARNING: Ignoring invalid distribution -ckaging (c:\\programdata\\anaconda3\\lib\\site-packages)\n",
      "WARNING: Ignoring invalid distribution - (c:\\programdata\\anaconda3\\lib\\site-packages)\n",
      "WARNING: Ignoring invalid distribution -eaborn (c:\\programdata\\anaconda3\\lib\\site-packages)\n",
      "WARNING: Ignoring invalid distribution -ckaging (c:\\programdata\\anaconda3\\lib\\site-packages)\n",
      "WARNING: Ignoring invalid distribution -ackaging (c:\\programdata\\anaconda3\\lib\\site-packages)\n",
      "WARNING: Ignoring invalid distribution -ckaging (c:\\programdata\\anaconda3\\lib\\site-packages)\n",
      "WARNING: Ignoring invalid distribution - (c:\\programdata\\anaconda3\\lib\\site-packages)\n",
      "WARNING: Ignoring invalid distribution -eaborn (c:\\programdata\\anaconda3\\lib\\site-packages)\n",
      "WARNING: Ignoring invalid distribution -ckaging (c:\\programdata\\anaconda3\\lib\\site-packages)\n",
      "WARNING: Ignoring invalid distribution -ackaging (c:\\programdata\\anaconda3\\lib\\site-packages)\n",
      "WARNING: Ignoring invalid distribution -ckaging (c:\\programdata\\anaconda3\\lib\\site-packages)\n",
      "WARNING: Ignoring invalid distribution - (c:\\programdata\\anaconda3\\lib\\site-packages)\n",
      "WARNING: Ignoring invalid distribution -eaborn (c:\\programdata\\anaconda3\\lib\\site-packages)\n",
      "WARNING: Ignoring invalid distribution -ckaging (c:\\programdata\\anaconda3\\lib\\site-packages)\n",
      "WARNING: Ignoring invalid distribution -ackaging (c:\\programdata\\anaconda3\\lib\\site-packages)\n",
      "WARNING: Ignoring invalid distribution -ckaging (c:\\programdata\\anaconda3\\lib\\site-packages)\n",
      "WARNING: Ignoring invalid distribution - (c:\\programdata\\anaconda3\\lib\\site-packages)\n",
      "WARNING: Ignoring invalid distribution -eaborn (c:\\programdata\\anaconda3\\lib\\site-packages)\n",
      "WARNING: Ignoring invalid distribution -ckaging (c:\\programdata\\anaconda3\\lib\\site-packages)\n",
      "WARNING: Ignoring invalid distribution -ackaging (c:\\programdata\\anaconda3\\lib\\site-packages)\n"
     ]
    }
   ],
   "source": [
    "pip install umap"
   ]
  },
  {
   "cell_type": "code",
   "execution_count": 8,
   "id": "3c1ed5ba",
   "metadata": {},
   "outputs": [
    {
     "name": "stdout",
     "output_type": "stream",
     "text": [
      "Requirement already satisfied: hdbscan in c:\\programdata\\anaconda3\\lib\\site-packages (0.8.29)\n",
      "Requirement already satisfied: scipy>=1.0 in c:\\programdata\\anaconda3\\lib\\site-packages (from hdbscan) (1.7.1)\n",
      "Requirement already satisfied: cython>=0.27 in c:\\programdata\\anaconda3\\lib\\site-packages (from hdbscan) (0.29.24)\n",
      "Requirement already satisfied: numpy>=1.20 in c:\\programdata\\anaconda3\\lib\\site-packages (from hdbscan) (1.20.3)\n",
      "Requirement already satisfied: joblib>=1.0 in c:\\programdata\\anaconda3\\lib\\site-packages (from hdbscan) (1.1.0)\n",
      "Requirement already satisfied: scikit-learn>=0.20 in c:\\programdata\\anaconda3\\lib\\site-packages (from hdbscan) (0.24.2)\n",
      "Requirement already satisfied: threadpoolctl>=2.0.0 in c:\\programdata\\anaconda3\\lib\\site-packages (from scikit-learn>=0.20->hdbscan) (2.2.0)\n",
      "Note: you may need to restart the kernel to use updated packages.\n"
     ]
    },
    {
     "name": "stderr",
     "output_type": "stream",
     "text": [
      "WARNING: Ignoring invalid distribution -ckaging (c:\\programdata\\anaconda3\\lib\\site-packages)\n",
      "WARNING: Ignoring invalid distribution - (c:\\programdata\\anaconda3\\lib\\site-packages)\n",
      "WARNING: Ignoring invalid distribution -eaborn (c:\\programdata\\anaconda3\\lib\\site-packages)\n",
      "WARNING: Ignoring invalid distribution -ckaging (c:\\programdata\\anaconda3\\lib\\site-packages)\n",
      "WARNING: Ignoring invalid distribution -ackaging (c:\\programdata\\anaconda3\\lib\\site-packages)\n",
      "WARNING: Ignoring invalid distribution -ckaging (c:\\programdata\\anaconda3\\lib\\site-packages)\n",
      "WARNING: Ignoring invalid distribution - (c:\\programdata\\anaconda3\\lib\\site-packages)\n",
      "WARNING: Ignoring invalid distribution -eaborn (c:\\programdata\\anaconda3\\lib\\site-packages)\n",
      "WARNING: Ignoring invalid distribution -ckaging (c:\\programdata\\anaconda3\\lib\\site-packages)\n",
      "WARNING: Ignoring invalid distribution -ackaging (c:\\programdata\\anaconda3\\lib\\site-packages)\n",
      "WARNING: Ignoring invalid distribution -ckaging (c:\\programdata\\anaconda3\\lib\\site-packages)\n",
      "WARNING: Ignoring invalid distribution - (c:\\programdata\\anaconda3\\lib\\site-packages)\n",
      "WARNING: Ignoring invalid distribution -eaborn (c:\\programdata\\anaconda3\\lib\\site-packages)\n",
      "WARNING: Ignoring invalid distribution -ckaging (c:\\programdata\\anaconda3\\lib\\site-packages)\n",
      "WARNING: Ignoring invalid distribution -ackaging (c:\\programdata\\anaconda3\\lib\\site-packages)\n",
      "WARNING: Ignoring invalid distribution -ckaging (c:\\programdata\\anaconda3\\lib\\site-packages)\n",
      "WARNING: Ignoring invalid distribution - (c:\\programdata\\anaconda3\\lib\\site-packages)\n",
      "WARNING: Ignoring invalid distribution -eaborn (c:\\programdata\\anaconda3\\lib\\site-packages)\n",
      "WARNING: Ignoring invalid distribution -ckaging (c:\\programdata\\anaconda3\\lib\\site-packages)\n",
      "WARNING: Ignoring invalid distribution -ackaging (c:\\programdata\\anaconda3\\lib\\site-packages)\n",
      "WARNING: Ignoring invalid distribution -ckaging (c:\\programdata\\anaconda3\\lib\\site-packages)\n",
      "WARNING: Ignoring invalid distribution - (c:\\programdata\\anaconda3\\lib\\site-packages)\n",
      "WARNING: Ignoring invalid distribution -eaborn (c:\\programdata\\anaconda3\\lib\\site-packages)\n",
      "WARNING: Ignoring invalid distribution -ckaging (c:\\programdata\\anaconda3\\lib\\site-packages)\n",
      "WARNING: Ignoring invalid distribution -ackaging (c:\\programdata\\anaconda3\\lib\\site-packages)\n",
      "WARNING: Ignoring invalid distribution -ckaging (c:\\programdata\\anaconda3\\lib\\site-packages)\n",
      "WARNING: Ignoring invalid distribution - (c:\\programdata\\anaconda3\\lib\\site-packages)\n",
      "WARNING: Ignoring invalid distribution -eaborn (c:\\programdata\\anaconda3\\lib\\site-packages)\n",
      "WARNING: Ignoring invalid distribution -ckaging (c:\\programdata\\anaconda3\\lib\\site-packages)\n",
      "WARNING: Ignoring invalid distribution -ackaging (c:\\programdata\\anaconda3\\lib\\site-packages)\n"
     ]
    }
   ],
   "source": [
    "pip install hdbscan"
   ]
  },
  {
   "cell_type": "code",
   "execution_count": 9,
   "id": "82eff2f4",
   "metadata": {},
   "outputs": [
    {
     "name": "stdout",
     "output_type": "stream",
     "text": [
      "Requirement already satisfied: nb_black in c:\\programdata\\anaconda3\\lib\\site-packages (1.0.7)\n",
      "Requirement already satisfied: black>='19.3' in c:\\programdata\\anaconda3\\lib\\site-packages (from nb_black) (19.10b0)\n",
      "Note: you may need to restart the kernel to use updated packages.\n"
     ]
    },
    {
     "name": "stderr",
     "output_type": "stream",
     "text": [
      "WARNING: Ignoring invalid distribution -ckaging (c:\\programdata\\anaconda3\\lib\\site-packages)\n",
      "WARNING: Ignoring invalid distribution - (c:\\programdata\\anaconda3\\lib\\site-packages)\n",
      "WARNING: Ignoring invalid distribution -eaborn (c:\\programdata\\anaconda3\\lib\\site-packages)\n",
      "WARNING: Ignoring invalid distribution -ckaging (c:\\programdata\\anaconda3\\lib\\site-packages)\n",
      "WARNING: Ignoring invalid distribution -ackaging (c:\\programdata\\anaconda3\\lib\\site-packages)\n",
      "WARNING: Ignoring invalid distribution -ckaging (c:\\programdata\\anaconda3\\lib\\site-packages)\n",
      "WARNING: Ignoring invalid distribution - (c:\\programdata\\anaconda3\\lib\\site-packages)\n",
      "WARNING: Ignoring invalid distribution -eaborn (c:\\programdata\\anaconda3\\lib\\site-packages)\n",
      "WARNING: Ignoring invalid distribution -ckaging (c:\\programdata\\anaconda3\\lib\\site-packages)\n",
      "WARNING: Ignoring invalid distribution -ackaging (c:\\programdata\\anaconda3\\lib\\site-packages)\n",
      "WARNING: Ignoring invalid distribution -ckaging (c:\\programdata\\anaconda3\\lib\\site-packages)\n",
      "WARNING: Ignoring invalid distribution - (c:\\programdata\\anaconda3\\lib\\site-packages)\n"
     ]
    },
    {
     "name": "stdout",
     "output_type": "stream",
     "text": [
      "Requirement already satisfied: ipython in c:\\programdata\\anaconda3\\lib\\site-packages (from nb_black) (7.29.0)\n",
      "Requirement already satisfied: click>=6.5 in c:\\programdata\\anaconda3\\lib\\site-packages (from black>='19.3'->nb_black) (8.0.3)\n",
      "Requirement already satisfied: pathspec<1,>=0.6 in c:\\programdata\\anaconda3\\lib\\site-packages (from black>='19.3'->nb_black) (0.7.0)\n",
      "Requirement already satisfied: toml>=0.9.4 in c:\\programdata\\anaconda3\\lib\\site-packages (from black>='19.3'->nb_black) (0.10.2)\n",
      "Requirement already satisfied: typed-ast>=1.4.0 in c:\\programdata\\anaconda3\\lib\\site-packages (from black>='19.3'->nb_black) (1.4.3)\n",
      "Requirement already satisfied: regex in c:\\programdata\\anaconda3\\lib\\site-packages (from black>='19.3'->nb_black) (2021.8.3)\n",
      "Requirement already satisfied: appdirs in c:\\programdata\\anaconda3\\lib\\site-packages (from black>='19.3'->nb_black) (1.4.4)\n",
      "Requirement already satisfied: attrs>=18.1.0 in c:\\programdata\\anaconda3\\lib\\site-packages (from black>='19.3'->nb_black) (21.2.0)\n",
      "Requirement already satisfied: colorama in c:\\programdata\\anaconda3\\lib\\site-packages (from click>=6.5->black>='19.3'->nb_black) (0.4.4)\n",
      "Requirement already satisfied: decorator in c:\\programdata\\anaconda3\\lib\\site-packages (from ipython->nb_black) (5.1.0)\n",
      "Requirement already satisfied: matplotlib-inline in c:\\programdata\\anaconda3\\lib\\site-packages (from ipython->nb_black) (0.1.2)\n",
      "Requirement already satisfied: setuptools>=18.5 in c:\\programdata\\anaconda3\\lib\\site-packages (from ipython->nb_black) (58.0.4)\n",
      "Requirement already satisfied: backcall in c:\\programdata\\anaconda3\\lib\\site-packages (from ipython->nb_black) (0.2.0)\n",
      "Requirement already satisfied: jedi>=0.16 in c:\\programdata\\anaconda3\\lib\\site-packages (from ipython->nb_black) (0.18.0)\n",
      "Requirement already satisfied: prompt-toolkit!=3.0.0,!=3.0.1,<3.1.0,>=2.0.0 in c:\\programdata\\anaconda3\\lib\\site-packages (from ipython->nb_black) (3.0.20)\n",
      "Requirement already satisfied: pygments in c:\\programdata\\anaconda3\\lib\\site-packages (from ipython->nb_black) (2.10.0)\n",
      "Requirement already satisfied: traitlets>=4.2 in c:\\programdata\\anaconda3\\lib\\site-packages (from ipython->nb_black) (5.1.0)\n",
      "Requirement already satisfied: pickleshare in c:\\programdata\\anaconda3\\lib\\site-packages (from ipython->nb_black) (0.7.5)\n",
      "Requirement already satisfied: parso<0.9.0,>=0.8.0 in c:\\programdata\\anaconda3\\lib\\site-packages (from jedi>=0.16->ipython->nb_black) (0.8.2)\n",
      "Requirement already satisfied: wcwidth in c:\\programdata\\anaconda3\\lib\\site-packages (from prompt-toolkit!=3.0.0,!=3.0.1,<3.1.0,>=2.0.0->ipython->nb_black) (0.2.5)\n"
     ]
    },
    {
     "name": "stderr",
     "output_type": "stream",
     "text": [
      "WARNING: Ignoring invalid distribution -eaborn (c:\\programdata\\anaconda3\\lib\\site-packages)\n",
      "WARNING: Ignoring invalid distribution -ckaging (c:\\programdata\\anaconda3\\lib\\site-packages)\n",
      "WARNING: Ignoring invalid distribution -ackaging (c:\\programdata\\anaconda3\\lib\\site-packages)\n",
      "WARNING: Ignoring invalid distribution -ckaging (c:\\programdata\\anaconda3\\lib\\site-packages)\n",
      "WARNING: Ignoring invalid distribution - (c:\\programdata\\anaconda3\\lib\\site-packages)\n",
      "WARNING: Ignoring invalid distribution -eaborn (c:\\programdata\\anaconda3\\lib\\site-packages)\n",
      "WARNING: Ignoring invalid distribution -ckaging (c:\\programdata\\anaconda3\\lib\\site-packages)\n",
      "WARNING: Ignoring invalid distribution -ackaging (c:\\programdata\\anaconda3\\lib\\site-packages)\n",
      "WARNING: Ignoring invalid distribution -ckaging (c:\\programdata\\anaconda3\\lib\\site-packages)\n",
      "WARNING: Ignoring invalid distribution - (c:\\programdata\\anaconda3\\lib\\site-packages)\n",
      "WARNING: Ignoring invalid distribution -eaborn (c:\\programdata\\anaconda3\\lib\\site-packages)\n",
      "WARNING: Ignoring invalid distribution -ckaging (c:\\programdata\\anaconda3\\lib\\site-packages)\n",
      "WARNING: Ignoring invalid distribution -ackaging (c:\\programdata\\anaconda3\\lib\\site-packages)\n",
      "WARNING: Ignoring invalid distribution -ckaging (c:\\programdata\\anaconda3\\lib\\site-packages)\n",
      "WARNING: Ignoring invalid distribution - (c:\\programdata\\anaconda3\\lib\\site-packages)\n",
      "WARNING: Ignoring invalid distribution -eaborn (c:\\programdata\\anaconda3\\lib\\site-packages)\n",
      "WARNING: Ignoring invalid distribution -ckaging (c:\\programdata\\anaconda3\\lib\\site-packages)\n",
      "WARNING: Ignoring invalid distribution -ackaging (c:\\programdata\\anaconda3\\lib\\site-packages)\n"
     ]
    }
   ],
   "source": [
    "pip install nb_black"
   ]
  },
  {
   "cell_type": "code",
   "execution_count": 10,
   "id": "ef5a3fc3",
   "metadata": {
    "scrolled": true
   },
   "outputs": [
    {
     "data": {
      "application/javascript": [
       "\n",
       "            setTimeout(function() {\n",
       "                var nbb_cell_id = 10;\n",
       "                var nbb_unformatted_code = \"import vk\\nimport time\\nimport pandas as pd\\n\\nimport json\\nimport requests\\nimport folium\\nimport math\\nimport datetime as dt\\nimport os\\nimport re\\nimport random\\nimport pymorphy2\\nimport urllib\\n\\nimport warnings\\n\\nwarnings.filterwarnings(\\\"ignore\\\")\\n\\npd.options.display.max_colwidth = 1000\\nfrom datetime import datetime, date\\nimport seaborn as sns\\nimport numpy as np\\nfrom scipy import stats\\nfrom collections import Counter\\nfrom transliterate import translit\\nfrom numpy import mean, std, var\\n\\nimport matplotlib.pyplot as plt\\n\\n%matplotlib inline\\n%config InlineBackend.figure_format='retina'\\n\\nimport re\\nimport string\\nfrom nltk.corpus import stopwords\\nimport nltk\\nfrom pymystem3 import Mystem\\nfrom string import punctuation\\nfrom wordcloud import WordCloud\\nimport ast\\nfrom scipy.stats.contingency import margins\\nfrom transformers import pipeline, AutoTokenizer, AutoModel\\nimport torch\\nimport transformers\\nimport umap\\nimport hdbscan\\nfrom sklearn.metrics import make_scorer\\nfrom sklearn.model_selection import GridSearchCV\\nimport logging\\n\\nlogging.captureWarnings(True)\\n%load_ext nb_black\";\n",
       "                var nbb_formatted_code = \"import vk\\nimport time\\nimport pandas as pd\\n\\nimport json\\nimport requests\\nimport folium\\nimport math\\nimport datetime as dt\\nimport os\\nimport re\\nimport random\\nimport pymorphy2\\nimport urllib\\n\\nimport warnings\\n\\nwarnings.filterwarnings(\\\"ignore\\\")\\n\\npd.options.display.max_colwidth = 1000\\nfrom datetime import datetime, date\\nimport seaborn as sns\\nimport numpy as np\\nfrom scipy import stats\\nfrom collections import Counter\\nfrom transliterate import translit\\nfrom numpy import mean, std, var\\n\\nimport matplotlib.pyplot as plt\\n\\n%matplotlib inline\\n%config InlineBackend.figure_format='retina'\\n\\nimport re\\nimport string\\nfrom nltk.corpus import stopwords\\nimport nltk\\nfrom pymystem3 import Mystem\\nfrom string import punctuation\\nfrom wordcloud import WordCloud\\nimport ast\\nfrom scipy.stats.contingency import margins\\nfrom transformers import pipeline, AutoTokenizer, AutoModel\\nimport torch\\nimport transformers\\nimport umap\\nimport hdbscan\\nfrom sklearn.metrics import make_scorer\\nfrom sklearn.model_selection import GridSearchCV\\nimport logging\\n\\nlogging.captureWarnings(True)\\n%load_ext nb_black\";\n",
       "                var nbb_cells = Jupyter.notebook.get_cells();\n",
       "                for (var i = 0; i < nbb_cells.length; ++i) {\n",
       "                    if (nbb_cells[i].input_prompt_number == nbb_cell_id) {\n",
       "                        if (nbb_cells[i].get_text() == nbb_unformatted_code) {\n",
       "                             nbb_cells[i].set_text(nbb_formatted_code);\n",
       "                        }\n",
       "                        break;\n",
       "                    }\n",
       "                }\n",
       "            }, 500);\n",
       "            "
      ],
      "text/plain": [
       "<IPython.core.display.Javascript object>"
      ]
     },
     "metadata": {},
     "output_type": "display_data"
    }
   ],
   "source": [
    "import vk\n",
    "import time\n",
    "import pandas as pd\n",
    "\n",
    "import json\n",
    "import requests\n",
    "import folium\n",
    "import math\n",
    "import datetime as dt\n",
    "import os\n",
    "import re\n",
    "import random\n",
    "import pymorphy2\n",
    "import urllib\n",
    "\n",
    "import warnings\n",
    "\n",
    "warnings.filterwarnings(\"ignore\")\n",
    "\n",
    "pd.options.display.max_colwidth = 1000\n",
    "from datetime import datetime, date\n",
    "import seaborn as sns\n",
    "import numpy as np\n",
    "from scipy import stats\n",
    "from collections import Counter\n",
    "from transliterate import translit\n",
    "from numpy import mean, std, var\n",
    "\n",
    "import matplotlib.pyplot as plt\n",
    "\n",
    "%matplotlib inline\n",
    "%config InlineBackend.figure_format='retina'\n",
    "\n",
    "import re\n",
    "import string\n",
    "from nltk.corpus import stopwords\n",
    "import nltk\n",
    "from pymystem3 import Mystem\n",
    "from string import punctuation\n",
    "from wordcloud import WordCloud\n",
    "import ast\n",
    "from scipy.stats.contingency import margins\n",
    "from transformers import pipeline, AutoTokenizer, AutoModel\n",
    "import torch\n",
    "import transformers\n",
    "import umap\n",
    "import hdbscan\n",
    "from sklearn.metrics import make_scorer\n",
    "from sklearn.model_selection import GridSearchCV\n",
    "import logging\n",
    "\n",
    "logging.captureWarnings(True)\n",
    "%load_ext nb_black"
   ]
  },
  {
   "cell_type": "markdown",
   "id": "8da527db",
   "metadata": {},
   "source": [
    "## Data parsing"
   ]
  },
  {
   "cell_type": "code",
   "execution_count": 11,
   "id": "67c5564d",
   "metadata": {},
   "outputs": [
    {
     "data": {
      "application/javascript": [
       "\n",
       "            setTimeout(function() {\n",
       "                var nbb_cell_id = 11;\n",
       "                var nbb_unformatted_code = \"# vk_api = vk.API(\\n#     access_token=\\\"vk1.a.eJNAwbeY3rLH2B8tTLlhg_q2AwyLM1m9VasVbfWs1wkdXDA8GR1ebwQduE5cYdenlPbmMxAjSwwd-mGdUVHBUQKwb8JZVd86QBgU9IsOYYmBQP_KKUEjmsHMDLZScEtATXYoJ4nBki7YXX0s6goyVWWva18TOkLIuZuSFM17eun7WYpWypFYaFT0GMopAgU0\\\"\\n# )\\nvk_api = vk.API(\\n    access_token=\\\"vk1.a.K1MtbuSo2VXLTRbD57CORalIq1rbG68HAeQTmqoTWr3sV94p4UaSPkPHRwpe5kJu0AzwRn62RfR9H7pPWXGLkL7GoHwpPThsqdZZ6X1sftx3VtamxAYpSZzI57Kmf6wGC-8RjAaOygWheNM8owPt8ZS-OzOcAVV3dTaAIw7zR6r24U_Aue46qtJpLDcE8w_nOqVQO0Qa8xAjFl4ahFhlUg\\\"\\n)\";\n",
       "                var nbb_formatted_code = \"# vk_api = vk.API(\\n#     access_token=\\\"vk1.a.eJNAwbeY3rLH2B8tTLlhg_q2AwyLM1m9VasVbfWs1wkdXDA8GR1ebwQduE5cYdenlPbmMxAjSwwd-mGdUVHBUQKwb8JZVd86QBgU9IsOYYmBQP_KKUEjmsHMDLZScEtATXYoJ4nBki7YXX0s6goyVWWva18TOkLIuZuSFM17eun7WYpWypFYaFT0GMopAgU0\\\"\\n# )\\nvk_api = vk.API(\\n    access_token=\\\"vk1.a.K1MtbuSo2VXLTRbD57CORalIq1rbG68HAeQTmqoTWr3sV94p4UaSPkPHRwpe5kJu0AzwRn62RfR9H7pPWXGLkL7GoHwpPThsqdZZ6X1sftx3VtamxAYpSZzI57Kmf6wGC-8RjAaOygWheNM8owPt8ZS-OzOcAVV3dTaAIw7zR6r24U_Aue46qtJpLDcE8w_nOqVQO0Qa8xAjFl4ahFhlUg\\\"\\n)\";\n",
       "                var nbb_cells = Jupyter.notebook.get_cells();\n",
       "                for (var i = 0; i < nbb_cells.length; ++i) {\n",
       "                    if (nbb_cells[i].input_prompt_number == nbb_cell_id) {\n",
       "                        if (nbb_cells[i].get_text() == nbb_unformatted_code) {\n",
       "                             nbb_cells[i].set_text(nbb_formatted_code);\n",
       "                        }\n",
       "                        break;\n",
       "                    }\n",
       "                }\n",
       "            }, 500);\n",
       "            "
      ],
      "text/plain": [
       "<IPython.core.display.Javascript object>"
      ]
     },
     "metadata": {},
     "output_type": "display_data"
    }
   ],
   "source": [
    "# vk_api = vk.API(\n",
    "#     access_token=\"vk1.a.eJNAwbeY3rLH2B8tTLlhg_q2AwyLM1m9VasVbfWs1wkdXDA8GR1ebwQduE5cYdenlPbmMxAjSwwd-mGdUVHBUQKwb8JZVd86QBgU9IsOYYmBQP_KKUEjmsHMDLZScEtATXYoJ4nBki7YXX0s6goyVWWva18TOkLIuZuSFM17eun7WYpWypFYaFT0GMopAgU0\"\n",
    "# )\n",
    "vk_api = vk.API(\n",
    "    access_token=\"vk1.a.K1MtbuSo2VXLTRbD57CORalIq1rbG68HAeQTmqoTWr3sV94p4UaSPkPHRwpe5kJu0AzwRn62RfR9H7pPWXGLkL7GoHwpPThsqdZZ6X1sftx3VtamxAYpSZzI57Kmf6wGC-8RjAaOygWheNM8owPt8ZS-OzOcAVV3dTaAIw7zR6r24U_Aue46qtJpLDcE8w_nOqVQO0Qa8xAjFl4ahFhlUg\"\n",
    ")"
   ]
  },
  {
   "cell_type": "code",
   "execution_count": 12,
   "id": "62899ef0",
   "metadata": {},
   "outputs": [
    {
     "data": {
      "application/javascript": [
       "\n",
       "            setTimeout(function() {\n",
       "                var nbb_cell_id = 12;\n",
       "                var nbb_unformatted_code = \"list_of_groups = vk_api.groups.getById(\\n    v=5.131,\\n    group_ids=[\\n        \\\"club206281475\\\",\\n        \\\"secrety_05\\\",\\n        \\\"mahahkala\\\",\\n        \\\"atypicalmakhachkala\\\",\\n        \\\"podsluxanopytigorsk\\\",\\n        \\\"ksdovolsik\\\"\\n    ],\\n    fields=\\\"description\\\",\\n)\";\n",
       "                var nbb_formatted_code = \"list_of_groups = vk_api.groups.getById(\\n    v=5.131,\\n    group_ids=[\\n        \\\"club206281475\\\",\\n        \\\"secrety_05\\\",\\n        \\\"mahahkala\\\",\\n        \\\"atypicalmakhachkala\\\",\\n        \\\"podsluxanopytigorsk\\\",\\n        \\\"ksdovolsik\\\",\\n    ],\\n    fields=\\\"description\\\",\\n)\";\n",
       "                var nbb_cells = Jupyter.notebook.get_cells();\n",
       "                for (var i = 0; i < nbb_cells.length; ++i) {\n",
       "                    if (nbb_cells[i].input_prompt_number == nbb_cell_id) {\n",
       "                        if (nbb_cells[i].get_text() == nbb_unformatted_code) {\n",
       "                             nbb_cells[i].set_text(nbb_formatted_code);\n",
       "                        }\n",
       "                        break;\n",
       "                    }\n",
       "                }\n",
       "            }, 500);\n",
       "            "
      ],
      "text/plain": [
       "<IPython.core.display.Javascript object>"
      ]
     },
     "metadata": {},
     "output_type": "display_data"
    }
   ],
   "source": [
    "list_of_groups = vk_api.groups.getById(\n",
    "    v=5.131,\n",
    "    group_ids=[\n",
    "        \"club206281475\",\n",
    "        \"secrety_05\",\n",
    "        \"mahahkala\",\n",
    "        \"atypicalmakhachkala\",\n",
    "        \"podsluxanopytigorsk\",\n",
    "        \"ksdovolsik\",\n",
    "    ],\n",
    "    fields=\"description\",\n",
    ")"
   ]
  },
  {
   "cell_type": "code",
   "execution_count": 13,
   "id": "5e9c1e68",
   "metadata": {},
   "outputs": [
    {
     "data": {
      "application/javascript": [
       "\n",
       "            setTimeout(function() {\n",
       "                var nbb_cell_id = 13;\n",
       "                var nbb_unformatted_code = \"list_of_ids_groups = []\\nfor i in range(len(list_of_groups)):\\n    list_of_ids_groups.append(list_of_groups[i][\\\"id\\\"])\";\n",
       "                var nbb_formatted_code = \"list_of_ids_groups = []\\nfor i in range(len(list_of_groups)):\\n    list_of_ids_groups.append(list_of_groups[i][\\\"id\\\"])\";\n",
       "                var nbb_cells = Jupyter.notebook.get_cells();\n",
       "                for (var i = 0; i < nbb_cells.length; ++i) {\n",
       "                    if (nbb_cells[i].input_prompt_number == nbb_cell_id) {\n",
       "                        if (nbb_cells[i].get_text() == nbb_unformatted_code) {\n",
       "                             nbb_cells[i].set_text(nbb_formatted_code);\n",
       "                        }\n",
       "                        break;\n",
       "                    }\n",
       "                }\n",
       "            }, 500);\n",
       "            "
      ],
      "text/plain": [
       "<IPython.core.display.Javascript object>"
      ]
     },
     "metadata": {},
     "output_type": "display_data"
    }
   ],
   "source": [
    "list_of_ids_groups = []\n",
    "for i in range(len(list_of_groups)):\n",
    "    list_of_ids_groups.append(list_of_groups[i][\"id\"])"
   ]
  },
  {
   "cell_type": "code",
   "execution_count": 14,
   "id": "bcf5c8b8",
   "metadata": {},
   "outputs": [
    {
     "data": {
      "application/javascript": [
       "\n",
       "            setTimeout(function() {\n",
       "                var nbb_cell_id = 14;\n",
       "                var nbb_unformatted_code = \"list_of_ids_groups1 = list_of_ids_groups[:5]\\nlist_of_ids_groups2 = list_of_ids_groups[5:]\";\n",
       "                var nbb_formatted_code = \"list_of_ids_groups1 = list_of_ids_groups[:5]\\nlist_of_ids_groups2 = list_of_ids_groups[5:]\";\n",
       "                var nbb_cells = Jupyter.notebook.get_cells();\n",
       "                for (var i = 0; i < nbb_cells.length; ++i) {\n",
       "                    if (nbb_cells[i].input_prompt_number == nbb_cell_id) {\n",
       "                        if (nbb_cells[i].get_text() == nbb_unformatted_code) {\n",
       "                             nbb_cells[i].set_text(nbb_formatted_code);\n",
       "                        }\n",
       "                        break;\n",
       "                    }\n",
       "                }\n",
       "            }, 500);\n",
       "            "
      ],
      "text/plain": [
       "<IPython.core.display.Javascript object>"
      ]
     },
     "metadata": {},
     "output_type": "display_data"
    }
   ],
   "source": [
    "list_of_ids_groups1 = list_of_ids_groups[:5]\n",
    "list_of_ids_groups2 = list_of_ids_groups[5:]"
   ]
  },
  {
   "cell_type": "code",
   "execution_count": 15,
   "id": "c39b5700",
   "metadata": {},
   "outputs": [
    {
     "data": {
      "application/javascript": [
       "\n",
       "            setTimeout(function() {\n",
       "                var nbb_cell_id = 15;\n",
       "                var nbb_unformatted_code = \"time.sleep(3)\\ndf_escooter_1 = pd.DataFrame()\\nfor i in range(len(list_of_ids_groups1)):\\n    posts1 = vk_api.wall.search(\\n        v=5.131,\\n        owner_id=-list_of_ids_groups1[i],\\n        query=\\\"\\u044d\\u043b\\u0435\\u043a\\u0442\\u0440\\u043e\\u0441\\u0430\\u043c\\u043e\\u043a\\u0430\\u0442\\\",\\n        owners_only=1,\\n        count=100,\\n    )\\n    df_1 = pd.json_normalize(posts1[\\\"items\\\"])\\n    df_escooter_1 = pd.concat([df_1, df_escooter_1])\";\n",
       "                var nbb_formatted_code = \"time.sleep(3)\\ndf_escooter_1 = pd.DataFrame()\\nfor i in range(len(list_of_ids_groups1)):\\n    posts1 = vk_api.wall.search(\\n        v=5.131,\\n        owner_id=-list_of_ids_groups1[i],\\n        query=\\\"\\u044d\\u043b\\u0435\\u043a\\u0442\\u0440\\u043e\\u0441\\u0430\\u043c\\u043e\\u043a\\u0430\\u0442\\\",\\n        owners_only=1,\\n        count=100,\\n    )\\n    df_1 = pd.json_normalize(posts1[\\\"items\\\"])\\n    df_escooter_1 = pd.concat([df_1, df_escooter_1])\";\n",
       "                var nbb_cells = Jupyter.notebook.get_cells();\n",
       "                for (var i = 0; i < nbb_cells.length; ++i) {\n",
       "                    if (nbb_cells[i].input_prompt_number == nbb_cell_id) {\n",
       "                        if (nbb_cells[i].get_text() == nbb_unformatted_code) {\n",
       "                             nbb_cells[i].set_text(nbb_formatted_code);\n",
       "                        }\n",
       "                        break;\n",
       "                    }\n",
       "                }\n",
       "            }, 500);\n",
       "            "
      ],
      "text/plain": [
       "<IPython.core.display.Javascript object>"
      ]
     },
     "metadata": {},
     "output_type": "display_data"
    }
   ],
   "source": [
    "time.sleep(3)\n",
    "df_escooter_1 = pd.DataFrame()\n",
    "for i in range(len(list_of_ids_groups1)):\n",
    "    posts1 = vk_api.wall.search(\n",
    "        v=5.131,\n",
    "        owner_id=-list_of_ids_groups1[i],\n",
    "        query=\"электросамокат\",\n",
    "        owners_only=1,\n",
    "        count=100,\n",
    "    )\n",
    "    df_1 = pd.json_normalize(posts1[\"items\"])\n",
    "    df_escooter_1 = pd.concat([df_1, df_escooter_1])"
   ]
  },
  {
   "cell_type": "code",
   "execution_count": 16,
   "id": "011d6a87",
   "metadata": {},
   "outputs": [
    {
     "data": {
      "application/javascript": [
       "\n",
       "            setTimeout(function() {\n",
       "                var nbb_cell_id = 16;\n",
       "                var nbb_unformatted_code = \"time.sleep(3)\\ndf_escooter_2 = pd.DataFrame()\\nfor i in range(len(list_of_ids_groups2)):\\n    posts2 = vk_api.wall.search(\\n        v=5.131,\\n        owner_id=-list_of_ids_groups2[i],\\n        query=\\\"\\u044d\\u043b\\u0435\\u043a\\u0442\\u0440\\u043e\\u0441\\u0430\\u043c\\u043e\\u043a\\u0430\\u0442\\\",\\n        owners_only=1,\\n        count=100,\\n    )\\n    df_2 = pd.json_normalize(posts2[\\\"items\\\"])\\n    df_escooter_2 = pd.concat([df_2, df_escooter_2])\";\n",
       "                var nbb_formatted_code = \"time.sleep(3)\\ndf_escooter_2 = pd.DataFrame()\\nfor i in range(len(list_of_ids_groups2)):\\n    posts2 = vk_api.wall.search(\\n        v=5.131,\\n        owner_id=-list_of_ids_groups2[i],\\n        query=\\\"\\u044d\\u043b\\u0435\\u043a\\u0442\\u0440\\u043e\\u0441\\u0430\\u043c\\u043e\\u043a\\u0430\\u0442\\\",\\n        owners_only=1,\\n        count=100,\\n    )\\n    df_2 = pd.json_normalize(posts2[\\\"items\\\"])\\n    df_escooter_2 = pd.concat([df_2, df_escooter_2])\";\n",
       "                var nbb_cells = Jupyter.notebook.get_cells();\n",
       "                for (var i = 0; i < nbb_cells.length; ++i) {\n",
       "                    if (nbb_cells[i].input_prompt_number == nbb_cell_id) {\n",
       "                        if (nbb_cells[i].get_text() == nbb_unformatted_code) {\n",
       "                             nbb_cells[i].set_text(nbb_formatted_code);\n",
       "                        }\n",
       "                        break;\n",
       "                    }\n",
       "                }\n",
       "            }, 500);\n",
       "            "
      ],
      "text/plain": [
       "<IPython.core.display.Javascript object>"
      ]
     },
     "metadata": {},
     "output_type": "display_data"
    }
   ],
   "source": [
    "time.sleep(3)\n",
    "df_escooter_2 = pd.DataFrame()\n",
    "for i in range(len(list_of_ids_groups2)):\n",
    "    posts2 = vk_api.wall.search(\n",
    "        v=5.131,\n",
    "        owner_id=-list_of_ids_groups2[i],\n",
    "        query=\"электросамокат\",\n",
    "        owners_only=1,\n",
    "        count=100,\n",
    "    )\n",
    "    df_2 = pd.json_normalize(posts2[\"items\"])\n",
    "    df_escooter_2 = pd.concat([df_2, df_escooter_2])"
   ]
  },
  {
   "cell_type": "code",
   "execution_count": 17,
   "id": "0fd798bf",
   "metadata": {},
   "outputs": [
    {
     "data": {
      "application/javascript": [
       "\n",
       "            setTimeout(function() {\n",
       "                var nbb_cell_id = 17;\n",
       "                var nbb_unformatted_code = \"time.sleep(3)\\ndf_kicksharing_1 = pd.DataFrame()\\nfor i in range(len(list_of_ids_groups1)):\\n    posts3 = vk_api.wall.search(\\n        v=5.131,\\n        owner_id=-list_of_ids_groups1[i],\\n        query=\\\"\\u043a\\u0438\\u043a\\u0448\\u0435\\u0440\\u0438\\u043d\\u0433\\\",\\n        owners_only=1,\\n        count=100,\\n    )\\n    df_3 = pd.json_normalize(posts3[\\\"items\\\"])\\n    df_kicksharing_1 = pd.concat([df_3, df_kicksharing_1])\";\n",
       "                var nbb_formatted_code = \"time.sleep(3)\\ndf_kicksharing_1 = pd.DataFrame()\\nfor i in range(len(list_of_ids_groups1)):\\n    posts3 = vk_api.wall.search(\\n        v=5.131,\\n        owner_id=-list_of_ids_groups1[i],\\n        query=\\\"\\u043a\\u0438\\u043a\\u0448\\u0435\\u0440\\u0438\\u043d\\u0433\\\",\\n        owners_only=1,\\n        count=100,\\n    )\\n    df_3 = pd.json_normalize(posts3[\\\"items\\\"])\\n    df_kicksharing_1 = pd.concat([df_3, df_kicksharing_1])\";\n",
       "                var nbb_cells = Jupyter.notebook.get_cells();\n",
       "                for (var i = 0; i < nbb_cells.length; ++i) {\n",
       "                    if (nbb_cells[i].input_prompt_number == nbb_cell_id) {\n",
       "                        if (nbb_cells[i].get_text() == nbb_unformatted_code) {\n",
       "                             nbb_cells[i].set_text(nbb_formatted_code);\n",
       "                        }\n",
       "                        break;\n",
       "                    }\n",
       "                }\n",
       "            }, 500);\n",
       "            "
      ],
      "text/plain": [
       "<IPython.core.display.Javascript object>"
      ]
     },
     "metadata": {},
     "output_type": "display_data"
    }
   ],
   "source": [
    "time.sleep(3)\n",
    "df_kicksharing_1 = pd.DataFrame()\n",
    "for i in range(len(list_of_ids_groups1)):\n",
    "    posts3 = vk_api.wall.search(\n",
    "        v=5.131,\n",
    "        owner_id=-list_of_ids_groups1[i],\n",
    "        query=\"кикшеринг\",\n",
    "        owners_only=1,\n",
    "        count=100,\n",
    "    )\n",
    "    df_3 = pd.json_normalize(posts3[\"items\"])\n",
    "    df_kicksharing_1 = pd.concat([df_3, df_kicksharing_1])"
   ]
  },
  {
   "cell_type": "code",
   "execution_count": 18,
   "id": "ed1ad5ae",
   "metadata": {},
   "outputs": [
    {
     "data": {
      "application/javascript": [
       "\n",
       "            setTimeout(function() {\n",
       "                var nbb_cell_id = 18;\n",
       "                var nbb_unformatted_code = \"time.sleep(3)\\ndf_kicksharing_2 = pd.DataFrame()\\nfor i in range(len(list_of_ids_groups2)):\\n    posts4 = vk_api.wall.search(\\n        v=5.131,\\n        owner_id=-list_of_ids_groups2[i],\\n        query=\\\"\\u043a\\u0438\\u043a\\u0448\\u0435\\u0440\\u0438\\u043d\\u0433\\\",\\n        owners_only=1,\\n        count=100,\\n    )\\n    df_4 = pd.json_normalize(posts4[\\\"items\\\"])\\n    df_kicksharing_2 = pd.concat([df_4, df_kicksharing_2])\";\n",
       "                var nbb_formatted_code = \"time.sleep(3)\\ndf_kicksharing_2 = pd.DataFrame()\\nfor i in range(len(list_of_ids_groups2)):\\n    posts4 = vk_api.wall.search(\\n        v=5.131,\\n        owner_id=-list_of_ids_groups2[i],\\n        query=\\\"\\u043a\\u0438\\u043a\\u0448\\u0435\\u0440\\u0438\\u043d\\u0433\\\",\\n        owners_only=1,\\n        count=100,\\n    )\\n    df_4 = pd.json_normalize(posts4[\\\"items\\\"])\\n    df_kicksharing_2 = pd.concat([df_4, df_kicksharing_2])\";\n",
       "                var nbb_cells = Jupyter.notebook.get_cells();\n",
       "                for (var i = 0; i < nbb_cells.length; ++i) {\n",
       "                    if (nbb_cells[i].input_prompt_number == nbb_cell_id) {\n",
       "                        if (nbb_cells[i].get_text() == nbb_unformatted_code) {\n",
       "                             nbb_cells[i].set_text(nbb_formatted_code);\n",
       "                        }\n",
       "                        break;\n",
       "                    }\n",
       "                }\n",
       "            }, 500);\n",
       "            "
      ],
      "text/plain": [
       "<IPython.core.display.Javascript object>"
      ]
     },
     "metadata": {},
     "output_type": "display_data"
    }
   ],
   "source": [
    "time.sleep(3)\n",
    "df_kicksharing_2 = pd.DataFrame()\n",
    "for i in range(len(list_of_ids_groups2)):\n",
    "    posts4 = vk_api.wall.search(\n",
    "        v=5.131,\n",
    "        owner_id=-list_of_ids_groups2[i],\n",
    "        query=\"кикшеринг\",\n",
    "        owners_only=1,\n",
    "        count=100,\n",
    "    )\n",
    "    df_4 = pd.json_normalize(posts4[\"items\"])\n",
    "    df_kicksharing_2 = pd.concat([df_4, df_kicksharing_2])"
   ]
  },
  {
   "cell_type": "code",
   "execution_count": 19,
   "id": "3606ebfa",
   "metadata": {},
   "outputs": [
    {
     "data": {
      "application/javascript": [
       "\n",
       "            setTimeout(function() {\n",
       "                var nbb_cell_id = 19;\n",
       "                var nbb_unformatted_code = \"time.sleep(3)\\ndf_rent_1 = pd.DataFrame()\\nfor i in range(len(list_of_ids_groups1)):\\n    posts5 = vk_api.wall.search(\\n        v=5.131,\\n        owner_id=-list_of_ids_groups1[i],\\n        query=\\\"\\u0430\\u0440\\u0435\\u043d\\u0434\\u0430 \\u0441\\u0430\\u043c\\u043e\\u043a\\u0430\\u0442\\\",\\n        owners_only=1,\\n        count=100,\\n    )\\n    df_5 = pd.json_normalize(posts5[\\\"items\\\"])\\n    df_rent_1 = pd.concat([df_5, df_rent_1])\";\n",
       "                var nbb_formatted_code = \"time.sleep(3)\\ndf_rent_1 = pd.DataFrame()\\nfor i in range(len(list_of_ids_groups1)):\\n    posts5 = vk_api.wall.search(\\n        v=5.131,\\n        owner_id=-list_of_ids_groups1[i],\\n        query=\\\"\\u0430\\u0440\\u0435\\u043d\\u0434\\u0430 \\u0441\\u0430\\u043c\\u043e\\u043a\\u0430\\u0442\\\",\\n        owners_only=1,\\n        count=100,\\n    )\\n    df_5 = pd.json_normalize(posts5[\\\"items\\\"])\\n    df_rent_1 = pd.concat([df_5, df_rent_1])\";\n",
       "                var nbb_cells = Jupyter.notebook.get_cells();\n",
       "                for (var i = 0; i < nbb_cells.length; ++i) {\n",
       "                    if (nbb_cells[i].input_prompt_number == nbb_cell_id) {\n",
       "                        if (nbb_cells[i].get_text() == nbb_unformatted_code) {\n",
       "                             nbb_cells[i].set_text(nbb_formatted_code);\n",
       "                        }\n",
       "                        break;\n",
       "                    }\n",
       "                }\n",
       "            }, 500);\n",
       "            "
      ],
      "text/plain": [
       "<IPython.core.display.Javascript object>"
      ]
     },
     "metadata": {},
     "output_type": "display_data"
    }
   ],
   "source": [
    "time.sleep(3)\n",
    "df_rent_1 = pd.DataFrame()\n",
    "for i in range(len(list_of_ids_groups1)):\n",
    "    posts5 = vk_api.wall.search(\n",
    "        v=5.131,\n",
    "        owner_id=-list_of_ids_groups1[i],\n",
    "        query=\"аренда самокат\",\n",
    "        owners_only=1,\n",
    "        count=100,\n",
    "    )\n",
    "    df_5 = pd.json_normalize(posts5[\"items\"])\n",
    "    df_rent_1 = pd.concat([df_5, df_rent_1])"
   ]
  },
  {
   "cell_type": "code",
   "execution_count": 20,
   "id": "28eb8894",
   "metadata": {},
   "outputs": [
    {
     "data": {
      "application/javascript": [
       "\n",
       "            setTimeout(function() {\n",
       "                var nbb_cell_id = 20;\n",
       "                var nbb_unformatted_code = \"time.sleep(3)\\ndf_rent_2 = pd.DataFrame()\\nfor i in range(len(list_of_ids_groups2)):\\n    posts6 = vk_api.wall.search(\\n        v=5.131,\\n        owner_id=-list_of_ids_groups2[i],\\n        query=\\\"\\u0430\\u0440\\u0435\\u043d\\u0434\\u0430 \\u0441\\u0430\\u043c\\u043e\\u043a\\u0430\\u0442\\\",\\n        owners_only=1,\\n        count=100,\\n    )\\n    df_6 = pd.json_normalize(posts6[\\\"items\\\"])\\n    df_rent_2 = pd.concat([df_6, df_rent_2])\";\n",
       "                var nbb_formatted_code = \"time.sleep(3)\\ndf_rent_2 = pd.DataFrame()\\nfor i in range(len(list_of_ids_groups2)):\\n    posts6 = vk_api.wall.search(\\n        v=5.131,\\n        owner_id=-list_of_ids_groups2[i],\\n        query=\\\"\\u0430\\u0440\\u0435\\u043d\\u0434\\u0430 \\u0441\\u0430\\u043c\\u043e\\u043a\\u0430\\u0442\\\",\\n        owners_only=1,\\n        count=100,\\n    )\\n    df_6 = pd.json_normalize(posts6[\\\"items\\\"])\\n    df_rent_2 = pd.concat([df_6, df_rent_2])\";\n",
       "                var nbb_cells = Jupyter.notebook.get_cells();\n",
       "                for (var i = 0; i < nbb_cells.length; ++i) {\n",
       "                    if (nbb_cells[i].input_prompt_number == nbb_cell_id) {\n",
       "                        if (nbb_cells[i].get_text() == nbb_unformatted_code) {\n",
       "                             nbb_cells[i].set_text(nbb_formatted_code);\n",
       "                        }\n",
       "                        break;\n",
       "                    }\n",
       "                }\n",
       "            }, 500);\n",
       "            "
      ],
      "text/plain": [
       "<IPython.core.display.Javascript object>"
      ]
     },
     "metadata": {},
     "output_type": "display_data"
    }
   ],
   "source": [
    "time.sleep(3)\n",
    "df_rent_2 = pd.DataFrame()\n",
    "for i in range(len(list_of_ids_groups2)):\n",
    "    posts6 = vk_api.wall.search(\n",
    "        v=5.131,\n",
    "        owner_id=-list_of_ids_groups2[i],\n",
    "        query=\"аренда самокат\",\n",
    "        owners_only=1,\n",
    "        count=100,\n",
    "    )\n",
    "    df_6 = pd.json_normalize(posts6[\"items\"])\n",
    "    df_rent_2 = pd.concat([df_6, df_rent_2])"
   ]
  },
  {
   "cell_type": "code",
   "execution_count": 21,
   "id": "bc53e657",
   "metadata": {},
   "outputs": [
    {
     "data": {
      "application/javascript": [
       "\n",
       "            setTimeout(function() {\n",
       "                var nbb_cell_id = 21;\n",
       "                var nbb_unformatted_code = \"df_rent_1[\\\"query\\\"] = \\\"\\u0430\\u0440\\u0435\\u043d\\u0434\\u0430 \\u0441\\u0430\\u043c\\u043e\\u043a\\u0430\\u0442\\\"\\ndf_rent_2[\\\"query\\\"] = \\\"\\u0430\\u0440\\u0435\\u043d\\u0434\\u0430 \\u0441\\u0430\\u043c\\u043e\\u043a\\u0430\\u0442\\\"\\ndf_kicksharing_1[\\\"query\\\"] = \\\"\\u043a\\u0438\\u043a\\u0448\\u0435\\u0440\\u0438\\u043d\\u0433\\\"\\ndf_kicksharing_2[\\\"query\\\"] = \\\"\\u043a\\u0438\\u043a\\u0448\\u0435\\u0440\\u0438\\u043d\\u0433\\\"\\ndf_escooter_1[\\\"query\\\"] = \\\"\\u044d\\u043b\\u0435\\u043a\\u0442\\u0440\\u043e\\u0441\\u0430\\u043c\\u043e\\u043a\\u0430\\u0442\\\"\\ndf_escooter_2[\\\"query\\\"] = \\\"\\u044d\\u043b\\u0435\\u043a\\u0442\\u0440\\u043e\\u0441\\u0430\\u043c\\u043e\\u043a\\u0430\\u0442\\\"\";\n",
       "                var nbb_formatted_code = \"df_rent_1[\\\"query\\\"] = \\\"\\u0430\\u0440\\u0435\\u043d\\u0434\\u0430 \\u0441\\u0430\\u043c\\u043e\\u043a\\u0430\\u0442\\\"\\ndf_rent_2[\\\"query\\\"] = \\\"\\u0430\\u0440\\u0435\\u043d\\u0434\\u0430 \\u0441\\u0430\\u043c\\u043e\\u043a\\u0430\\u0442\\\"\\ndf_kicksharing_1[\\\"query\\\"] = \\\"\\u043a\\u0438\\u043a\\u0448\\u0435\\u0440\\u0438\\u043d\\u0433\\\"\\ndf_kicksharing_2[\\\"query\\\"] = \\\"\\u043a\\u0438\\u043a\\u0448\\u0435\\u0440\\u0438\\u043d\\u0433\\\"\\ndf_escooter_1[\\\"query\\\"] = \\\"\\u044d\\u043b\\u0435\\u043a\\u0442\\u0440\\u043e\\u0441\\u0430\\u043c\\u043e\\u043a\\u0430\\u0442\\\"\\ndf_escooter_2[\\\"query\\\"] = \\\"\\u044d\\u043b\\u0435\\u043a\\u0442\\u0440\\u043e\\u0441\\u0430\\u043c\\u043e\\u043a\\u0430\\u0442\\\"\";\n",
       "                var nbb_cells = Jupyter.notebook.get_cells();\n",
       "                for (var i = 0; i < nbb_cells.length; ++i) {\n",
       "                    if (nbb_cells[i].input_prompt_number == nbb_cell_id) {\n",
       "                        if (nbb_cells[i].get_text() == nbb_unformatted_code) {\n",
       "                             nbb_cells[i].set_text(nbb_formatted_code);\n",
       "                        }\n",
       "                        break;\n",
       "                    }\n",
       "                }\n",
       "            }, 500);\n",
       "            "
      ],
      "text/plain": [
       "<IPython.core.display.Javascript object>"
      ]
     },
     "metadata": {},
     "output_type": "display_data"
    }
   ],
   "source": [
    "df_rent_1[\"query\"] = \"аренда самокат\"\n",
    "df_rent_2[\"query\"] = \"аренда самокат\"\n",
    "df_kicksharing_1[\"query\"] = \"кикшеринг\"\n",
    "df_kicksharing_2[\"query\"] = \"кикшеринг\"\n",
    "df_escooter_1[\"query\"] = \"электросамокат\"\n",
    "df_escooter_2[\"query\"] = \"электросамокат\""
   ]
  },
  {
   "cell_type": "code",
   "execution_count": 22,
   "id": "9659adf4",
   "metadata": {},
   "outputs": [
    {
     "data": {
      "application/javascript": [
       "\n",
       "            setTimeout(function() {\n",
       "                var nbb_cell_id = 22;\n",
       "                var nbb_unformatted_code = \"df_posts = pd.concat(\\n    [\\n        df_rent_1,\\n        df_rent_2,\\n        df_kicksharing_1,\\n        df_kicksharing_2,\\n        df_escooter_1,\\n        df_escooter_2,\\n    ]\\n)\";\n",
       "                var nbb_formatted_code = \"df_posts = pd.concat(\\n    [\\n        df_rent_1,\\n        df_rent_2,\\n        df_kicksharing_1,\\n        df_kicksharing_2,\\n        df_escooter_1,\\n        df_escooter_2,\\n    ]\\n)\";\n",
       "                var nbb_cells = Jupyter.notebook.get_cells();\n",
       "                for (var i = 0; i < nbb_cells.length; ++i) {\n",
       "                    if (nbb_cells[i].input_prompt_number == nbb_cell_id) {\n",
       "                        if (nbb_cells[i].get_text() == nbb_unformatted_code) {\n",
       "                             nbb_cells[i].set_text(nbb_formatted_code);\n",
       "                        }\n",
       "                        break;\n",
       "                    }\n",
       "                }\n",
       "            }, 500);\n",
       "            "
      ],
      "text/plain": [
       "<IPython.core.display.Javascript object>"
      ]
     },
     "metadata": {},
     "output_type": "display_data"
    }
   ],
   "source": [
    "df_posts = pd.concat(\n",
    "    [\n",
    "        df_rent_1,\n",
    "        df_rent_2,\n",
    "        df_kicksharing_1,\n",
    "        df_kicksharing_2,\n",
    "        df_escooter_1,\n",
    "        df_escooter_2,\n",
    "    ]\n",
    ")"
   ]
  },
  {
   "cell_type": "code",
   "execution_count": 23,
   "id": "88291228",
   "metadata": {},
   "outputs": [
    {
     "data": {
      "application/javascript": [
       "\n",
       "            setTimeout(function() {\n",
       "                var nbb_cell_id = 23;\n",
       "                var nbb_unformatted_code = \"df_posts = df_posts.drop_duplicates(subset=\\\"id\\\")\";\n",
       "                var nbb_formatted_code = \"df_posts = df_posts.drop_duplicates(subset=\\\"id\\\")\";\n",
       "                var nbb_cells = Jupyter.notebook.get_cells();\n",
       "                for (var i = 0; i < nbb_cells.length; ++i) {\n",
       "                    if (nbb_cells[i].input_prompt_number == nbb_cell_id) {\n",
       "                        if (nbb_cells[i].get_text() == nbb_unformatted_code) {\n",
       "                             nbb_cells[i].set_text(nbb_formatted_code);\n",
       "                        }\n",
       "                        break;\n",
       "                    }\n",
       "                }\n",
       "            }, 500);\n",
       "            "
      ],
      "text/plain": [
       "<IPython.core.display.Javascript object>"
      ]
     },
     "metadata": {},
     "output_type": "display_data"
    }
   ],
   "source": [
    "df_posts = df_posts.drop_duplicates(subset=\"id\")"
   ]
  },
  {
   "cell_type": "code",
   "execution_count": 24,
   "id": "41ecfd9c",
   "metadata": {},
   "outputs": [
    {
     "data": {
      "application/javascript": [
       "\n",
       "            setTimeout(function() {\n",
       "                var nbb_cell_id = 24;\n",
       "                var nbb_unformatted_code = \"df_posts.to_csv(\\\"df_posts.csv\\\", index=False)\";\n",
       "                var nbb_formatted_code = \"df_posts.to_csv(\\\"df_posts.csv\\\", index=False)\";\n",
       "                var nbb_cells = Jupyter.notebook.get_cells();\n",
       "                for (var i = 0; i < nbb_cells.length; ++i) {\n",
       "                    if (nbb_cells[i].input_prompt_number == nbb_cell_id) {\n",
       "                        if (nbb_cells[i].get_text() == nbb_unformatted_code) {\n",
       "                             nbb_cells[i].set_text(nbb_formatted_code);\n",
       "                        }\n",
       "                        break;\n",
       "                    }\n",
       "                }\n",
       "            }, 500);\n",
       "            "
      ],
      "text/plain": [
       "<IPython.core.display.Javascript object>"
      ]
     },
     "metadata": {},
     "output_type": "display_data"
    }
   ],
   "source": [
    "df_posts.to_csv(\"df_posts.csv\", index=False)"
   ]
  },
  {
   "cell_type": "code",
   "execution_count": 25,
   "id": "b560e55b",
   "metadata": {},
   "outputs": [
    {
     "data": {
      "application/javascript": [
       "\n",
       "            setTimeout(function() {\n",
       "                var nbb_cell_id = 25;\n",
       "                var nbb_unformatted_code = \"list_of_id_lists = []\\nfor i in range(len(list(df_posts.owner_id.unique()))):\\n    list_of_id_lists.append(\\n        list(\\n            df_posts[df_posts[\\\"owner_id\\\"] == list(df_posts.owner_id.unique())[i]][\\\"id\\\"]\\n        )\\n    )\";\n",
       "                var nbb_formatted_code = \"list_of_id_lists = []\\nfor i in range(len(list(df_posts.owner_id.unique()))):\\n    list_of_id_lists.append(\\n        list(\\n            df_posts[df_posts[\\\"owner_id\\\"] == list(df_posts.owner_id.unique())[i]][\\\"id\\\"]\\n        )\\n    )\";\n",
       "                var nbb_cells = Jupyter.notebook.get_cells();\n",
       "                for (var i = 0; i < nbb_cells.length; ++i) {\n",
       "                    if (nbb_cells[i].input_prompt_number == nbb_cell_id) {\n",
       "                        if (nbb_cells[i].get_text() == nbb_unformatted_code) {\n",
       "                             nbb_cells[i].set_text(nbb_formatted_code);\n",
       "                        }\n",
       "                        break;\n",
       "                    }\n",
       "                }\n",
       "            }, 500);\n",
       "            "
      ],
      "text/plain": [
       "<IPython.core.display.Javascript object>"
      ]
     },
     "metadata": {},
     "output_type": "display_data"
    }
   ],
   "source": [
    "list_of_id_lists = []\n",
    "for i in range(len(list(df_posts.owner_id.unique()))):\n",
    "    list_of_id_lists.append(\n",
    "        list(\n",
    "            df_posts[df_posts[\"owner_id\"] == list(df_posts.owner_id.unique())[i]][\"id\"]\n",
    "        )\n",
    "    )"
   ]
  },
  {
   "cell_type": "code",
   "execution_count": 26,
   "id": "a7171102",
   "metadata": {},
   "outputs": [
    {
     "data": {
      "application/javascript": [
       "\n",
       "            setTimeout(function() {\n",
       "                var nbb_cell_id = 26;\n",
       "                var nbb_unformatted_code = \"list_of_owner_ids = list(df_posts.owner_id.unique())\";\n",
       "                var nbb_formatted_code = \"list_of_owner_ids = list(df_posts.owner_id.unique())\";\n",
       "                var nbb_cells = Jupyter.notebook.get_cells();\n",
       "                for (var i = 0; i < nbb_cells.length; ++i) {\n",
       "                    if (nbb_cells[i].input_prompt_number == nbb_cell_id) {\n",
       "                        if (nbb_cells[i].get_text() == nbb_unformatted_code) {\n",
       "                             nbb_cells[i].set_text(nbb_formatted_code);\n",
       "                        }\n",
       "                        break;\n",
       "                    }\n",
       "                }\n",
       "            }, 500);\n",
       "            "
      ],
      "text/plain": [
       "<IPython.core.display.Javascript object>"
      ]
     },
     "metadata": {},
     "output_type": "display_data"
    }
   ],
   "source": [
    "list_of_owner_ids = list(df_posts.owner_id.unique())"
   ]
  },
  {
   "cell_type": "code",
   "execution_count": 27,
   "id": "85f8e9d2",
   "metadata": {},
   "outputs": [
    {
     "data": {
      "application/javascript": [
       "\n",
       "            setTimeout(function() {\n",
       "                var nbb_cell_id = 27;\n",
       "                var nbb_unformatted_code = \"df1 = pd.DataFrame()\\ndf3 = pd.DataFrame()\\nfor i in range(len(list_of_owner_ids)):\\n    for j in range(len(list_of_id_lists[i])):\\n        time.sleep(3)\\n        get_comments = vk_api.wall.getComments(\\n            v=5.131,\\n            owner_id=list_of_owner_ids[i],\\n            post_id=list_of_id_lists[i][j],\\n            need_likes=1,\\n            count=100,\\n            preview_length=0,\\n            extended=1,\\n            thread_items_count=10,\\n            fields=[\\\"bdate\\\", \\\"city\\\", \\\"home_town\\\"],\\n        )\\n        df2 = pd.json_normalize(get_comments[\\\"items\\\"])\\n        df4 = pd.json_normalize(get_comments[\\\"profiles\\\"])\\n        df1 = pd.concat([df1, df2])\\n        df3 = pd.concat([df3, df4])\";\n",
       "                var nbb_formatted_code = \"df1 = pd.DataFrame()\\ndf3 = pd.DataFrame()\\nfor i in range(len(list_of_owner_ids)):\\n    for j in range(len(list_of_id_lists[i])):\\n        time.sleep(3)\\n        get_comments = vk_api.wall.getComments(\\n            v=5.131,\\n            owner_id=list_of_owner_ids[i],\\n            post_id=list_of_id_lists[i][j],\\n            need_likes=1,\\n            count=100,\\n            preview_length=0,\\n            extended=1,\\n            thread_items_count=10,\\n            fields=[\\\"bdate\\\", \\\"city\\\", \\\"home_town\\\"],\\n        )\\n        df2 = pd.json_normalize(get_comments[\\\"items\\\"])\\n        df4 = pd.json_normalize(get_comments[\\\"profiles\\\"])\\n        df1 = pd.concat([df1, df2])\\n        df3 = pd.concat([df3, df4])\";\n",
       "                var nbb_cells = Jupyter.notebook.get_cells();\n",
       "                for (var i = 0; i < nbb_cells.length; ++i) {\n",
       "                    if (nbb_cells[i].input_prompt_number == nbb_cell_id) {\n",
       "                        if (nbb_cells[i].get_text() == nbb_unformatted_code) {\n",
       "                             nbb_cells[i].set_text(nbb_formatted_code);\n",
       "                        }\n",
       "                        break;\n",
       "                    }\n",
       "                }\n",
       "            }, 500);\n",
       "            "
      ],
      "text/plain": [
       "<IPython.core.display.Javascript object>"
      ]
     },
     "metadata": {},
     "output_type": "display_data"
    }
   ],
   "source": [
    "df1 = pd.DataFrame()\n",
    "df3 = pd.DataFrame()\n",
    "for i in range(len(list_of_owner_ids)):\n",
    "    for j in range(len(list_of_id_lists[i])):\n",
    "        time.sleep(3)\n",
    "        get_comments = vk_api.wall.getComments(\n",
    "            v=5.131,\n",
    "            owner_id=list_of_owner_ids[i],\n",
    "            post_id=list_of_id_lists[i][j],\n",
    "            need_likes=1,\n",
    "            count=100,\n",
    "            preview_length=0,\n",
    "            extended=1,\n",
    "            thread_items_count=10,\n",
    "            fields=[\"bdate\", \"city\", \"home_town\"],\n",
    "        )\n",
    "        df2 = pd.json_normalize(get_comments[\"items\"])\n",
    "        df4 = pd.json_normalize(get_comments[\"profiles\"])\n",
    "        df1 = pd.concat([df1, df2])\n",
    "        df3 = pd.concat([df3, df4])"
   ]
  },
  {
   "cell_type": "code",
   "execution_count": 28,
   "id": "06ce39db",
   "metadata": {},
   "outputs": [
    {
     "data": {
      "application/javascript": [
       "\n",
       "            setTimeout(function() {\n",
       "                var nbb_cell_id = 28;\n",
       "                var nbb_unformatted_code = \"df1.to_csv(\\\"comments.csv\\\", index=False)\";\n",
       "                var nbb_formatted_code = \"df1.to_csv(\\\"comments.csv\\\", index=False)\";\n",
       "                var nbb_cells = Jupyter.notebook.get_cells();\n",
       "                for (var i = 0; i < nbb_cells.length; ++i) {\n",
       "                    if (nbb_cells[i].input_prompt_number == nbb_cell_id) {\n",
       "                        if (nbb_cells[i].get_text() == nbb_unformatted_code) {\n",
       "                             nbb_cells[i].set_text(nbb_formatted_code);\n",
       "                        }\n",
       "                        break;\n",
       "                    }\n",
       "                }\n",
       "            }, 500);\n",
       "            "
      ],
      "text/plain": [
       "<IPython.core.display.Javascript object>"
      ]
     },
     "metadata": {},
     "output_type": "display_data"
    }
   ],
   "source": [
    "df1.to_csv(\"comments.csv\", index=False)"
   ]
  },
  {
   "cell_type": "code",
   "execution_count": 29,
   "id": "ae3c991f",
   "metadata": {},
   "outputs": [
    {
     "data": {
      "application/javascript": [
       "\n",
       "            setTimeout(function() {\n",
       "                var nbb_cell_id = 29;\n",
       "                var nbb_unformatted_code = \"df3.to_csv(\\\"people.csv\\\", index=False)\";\n",
       "                var nbb_formatted_code = \"df3.to_csv(\\\"people.csv\\\", index=False)\";\n",
       "                var nbb_cells = Jupyter.notebook.get_cells();\n",
       "                for (var i = 0; i < nbb_cells.length; ++i) {\n",
       "                    if (nbb_cells[i].input_prompt_number == nbb_cell_id) {\n",
       "                        if (nbb_cells[i].get_text() == nbb_unformatted_code) {\n",
       "                             nbb_cells[i].set_text(nbb_formatted_code);\n",
       "                        }\n",
       "                        break;\n",
       "                    }\n",
       "                }\n",
       "            }, 500);\n",
       "            "
      ],
      "text/plain": [
       "<IPython.core.display.Javascript object>"
      ]
     },
     "metadata": {},
     "output_type": "display_data"
    }
   ],
   "source": [
    "df3.to_csv(\"people.csv\", index=False)"
   ]
  },
  {
   "cell_type": "code",
   "execution_count": 30,
   "id": "3f5af9d5",
   "metadata": {},
   "outputs": [
    {
     "data": {
      "application/javascript": [
       "\n",
       "            setTimeout(function() {\n",
       "                var nbb_cell_id = 30;\n",
       "                var nbb_unformatted_code = \"comments = pd.read_csv(\\\"comments.csv\\\")\";\n",
       "                var nbb_formatted_code = \"comments = pd.read_csv(\\\"comments.csv\\\")\";\n",
       "                var nbb_cells = Jupyter.notebook.get_cells();\n",
       "                for (var i = 0; i < nbb_cells.length; ++i) {\n",
       "                    if (nbb_cells[i].input_prompt_number == nbb_cell_id) {\n",
       "                        if (nbb_cells[i].get_text() == nbb_unformatted_code) {\n",
       "                             nbb_cells[i].set_text(nbb_formatted_code);\n",
       "                        }\n",
       "                        break;\n",
       "                    }\n",
       "                }\n",
       "            }, 500);\n",
       "            "
      ],
      "text/plain": [
       "<IPython.core.display.Javascript object>"
      ]
     },
     "metadata": {},
     "output_type": "display_data"
    }
   ],
   "source": [
    "comments = pd.read_csv(\"comments.csv\")"
   ]
  },
  {
   "cell_type": "code",
   "execution_count": 31,
   "id": "3a519b2a",
   "metadata": {},
   "outputs": [
    {
     "data": {
      "application/javascript": [
       "\n",
       "            setTimeout(function() {\n",
       "                var nbb_cell_id = 31;\n",
       "                var nbb_unformatted_code = \"df_threads = pd.DataFrame()\\nfor i in comments[\\\"thread.items\\\"].index:\\n    thread = ast.literal_eval(comments[\\\"thread.items\\\"][i])\\n    df_thred = pd.json_normalize(thread)\\n    df_threads = pd.concat([df_thred, df_threads])\";\n",
       "                var nbb_formatted_code = \"df_threads = pd.DataFrame()\\nfor i in comments[\\\"thread.items\\\"].index:\\n    thread = ast.literal_eval(comments[\\\"thread.items\\\"][i])\\n    df_thred = pd.json_normalize(thread)\\n    df_threads = pd.concat([df_thred, df_threads])\";\n",
       "                var nbb_cells = Jupyter.notebook.get_cells();\n",
       "                for (var i = 0; i < nbb_cells.length; ++i) {\n",
       "                    if (nbb_cells[i].input_prompt_number == nbb_cell_id) {\n",
       "                        if (nbb_cells[i].get_text() == nbb_unformatted_code) {\n",
       "                             nbb_cells[i].set_text(nbb_formatted_code);\n",
       "                        }\n",
       "                        break;\n",
       "                    }\n",
       "                }\n",
       "            }, 500);\n",
       "            "
      ],
      "text/plain": [
       "<IPython.core.display.Javascript object>"
      ]
     },
     "metadata": {},
     "output_type": "display_data"
    }
   ],
   "source": [
    "df_threads = pd.DataFrame()\n",
    "for i in comments[\"thread.items\"].index:\n",
    "    thread = ast.literal_eval(comments[\"thread.items\"][i])\n",
    "    df_thred = pd.json_normalize(thread)\n",
    "    df_threads = pd.concat([df_thred, df_threads])"
   ]
  },
  {
   "cell_type": "code",
   "execution_count": 32,
   "id": "1f6286dc",
   "metadata": {},
   "outputs": [
    {
     "data": {
      "application/javascript": [
       "\n",
       "            setTimeout(function() {\n",
       "                var nbb_cell_id = 32;\n",
       "                var nbb_unformatted_code = \"df_threads = df_threads.reset_index(drop=True)\";\n",
       "                var nbb_formatted_code = \"df_threads = df_threads.reset_index(drop=True)\";\n",
       "                var nbb_cells = Jupyter.notebook.get_cells();\n",
       "                for (var i = 0; i < nbb_cells.length; ++i) {\n",
       "                    if (nbb_cells[i].input_prompt_number == nbb_cell_id) {\n",
       "                        if (nbb_cells[i].get_text() == nbb_unformatted_code) {\n",
       "                             nbb_cells[i].set_text(nbb_formatted_code);\n",
       "                        }\n",
       "                        break;\n",
       "                    }\n",
       "                }\n",
       "            }, 500);\n",
       "            "
      ],
      "text/plain": [
       "<IPython.core.display.Javascript object>"
      ]
     },
     "metadata": {},
     "output_type": "display_data"
    }
   ],
   "source": [
    "df_threads = df_threads.reset_index(drop=True)"
   ]
  },
  {
   "cell_type": "code",
   "execution_count": 33,
   "id": "c4a5986b",
   "metadata": {},
   "outputs": [
    {
     "data": {
      "application/javascript": [
       "\n",
       "            setTimeout(function() {\n",
       "                var nbb_cell_id = 33;\n",
       "                var nbb_unformatted_code = \"df_threads = df_threads[1770:]\";\n",
       "                var nbb_formatted_code = \"df_threads = df_threads[1770:]\";\n",
       "                var nbb_cells = Jupyter.notebook.get_cells();\n",
       "                for (var i = 0; i < nbb_cells.length; ++i) {\n",
       "                    if (nbb_cells[i].input_prompt_number == nbb_cell_id) {\n",
       "                        if (nbb_cells[i].get_text() == nbb_unformatted_code) {\n",
       "                             nbb_cells[i].set_text(nbb_formatted_code);\n",
       "                        }\n",
       "                        break;\n",
       "                    }\n",
       "                }\n",
       "            }, 500);\n",
       "            "
      ],
      "text/plain": [
       "<IPython.core.display.Javascript object>"
      ]
     },
     "metadata": {},
     "output_type": "display_data"
    }
   ],
   "source": [
    "df_threads = df_threads[1770:]"
   ]
  },
  {
   "cell_type": "code",
   "execution_count": 34,
   "id": "bb5f22ac",
   "metadata": {},
   "outputs": [
    {
     "data": {
      "application/javascript": [
       "\n",
       "            setTimeout(function() {\n",
       "                var nbb_cell_id = 34;\n",
       "                var nbb_unformatted_code = \"df_threads = df_threads.reset_index(drop=True)\";\n",
       "                var nbb_formatted_code = \"df_threads = df_threads.reset_index(drop=True)\";\n",
       "                var nbb_cells = Jupyter.notebook.get_cells();\n",
       "                for (var i = 0; i < nbb_cells.length; ++i) {\n",
       "                    if (nbb_cells[i].input_prompt_number == nbb_cell_id) {\n",
       "                        if (nbb_cells[i].get_text() == nbb_unformatted_code) {\n",
       "                             nbb_cells[i].set_text(nbb_formatted_code);\n",
       "                        }\n",
       "                        break;\n",
       "                    }\n",
       "                }\n",
       "            }, 500);\n",
       "            "
      ],
      "text/plain": [
       "<IPython.core.display.Javascript object>"
      ]
     },
     "metadata": {},
     "output_type": "display_data"
    }
   ],
   "source": [
    "df_threads = df_threads.reset_index(drop=True)"
   ]
  },
  {
   "cell_type": "code",
   "execution_count": 35,
   "id": "f0cf5def",
   "metadata": {},
   "outputs": [
    {
     "data": {
      "application/javascript": [
       "\n",
       "            setTimeout(function() {\n",
       "                var nbb_cell_id = 35;\n",
       "                var nbb_unformatted_code = \"df_threads = df_threads[802:]\\ndf_threads = df_threads.reset_index(drop=True)\";\n",
       "                var nbb_formatted_code = \"df_threads = df_threads[802:]\\ndf_threads = df_threads.reset_index(drop=True)\";\n",
       "                var nbb_cells = Jupyter.notebook.get_cells();\n",
       "                for (var i = 0; i < nbb_cells.length; ++i) {\n",
       "                    if (nbb_cells[i].input_prompt_number == nbb_cell_id) {\n",
       "                        if (nbb_cells[i].get_text() == nbb_unformatted_code) {\n",
       "                             nbb_cells[i].set_text(nbb_formatted_code);\n",
       "                        }\n",
       "                        break;\n",
       "                    }\n",
       "                }\n",
       "            }, 500);\n",
       "            "
      ],
      "text/plain": [
       "<IPython.core.display.Javascript object>"
      ]
     },
     "metadata": {},
     "output_type": "display_data"
    }
   ],
   "source": [
    "df_threads = df_threads[802:]\n",
    "df_threads = df_threads.reset_index(drop=True)"
   ]
  },
  {
   "cell_type": "code",
   "execution_count": 36,
   "id": "ac915c65",
   "metadata": {},
   "outputs": [
    {
     "data": {
      "application/javascript": [
       "\n",
       "            setTimeout(function() {\n",
       "                var nbb_cell_id = 36;\n",
       "                var nbb_unformatted_code = \"df_threads.to_csv(\\\"df_threads.csv\\\", index=False)\";\n",
       "                var nbb_formatted_code = \"df_threads.to_csv(\\\"df_threads.csv\\\", index=False)\";\n",
       "                var nbb_cells = Jupyter.notebook.get_cells();\n",
       "                for (var i = 0; i < nbb_cells.length; ++i) {\n",
       "                    if (nbb_cells[i].input_prompt_number == nbb_cell_id) {\n",
       "                        if (nbb_cells[i].get_text() == nbb_unformatted_code) {\n",
       "                             nbb_cells[i].set_text(nbb_formatted_code);\n",
       "                        }\n",
       "                        break;\n",
       "                    }\n",
       "                }\n",
       "            }, 500);\n",
       "            "
      ],
      "text/plain": [
       "<IPython.core.display.Javascript object>"
      ]
     },
     "metadata": {},
     "output_type": "display_data"
    }
   ],
   "source": [
    "df_threads.to_csv(\"df_threads.csv\", index=False)"
   ]
  },
  {
   "cell_type": "code",
   "execution_count": 38,
   "id": "a493e86b",
   "metadata": {},
   "outputs": [
    {
     "data": {
      "application/javascript": [
       "\n",
       "            setTimeout(function() {\n",
       "                var nbb_cell_id = 38;\n",
       "                var nbb_unformatted_code = \"df_threads_ = pd.DataFrame()\\nfor i in range(len(df_threads[\\\"id\\\"])):\\n    time.sleep(3)\\n    get_comments = vk_api.wall.getComment(\\n        v=5.131,\\n        owner_id=df_threads[\\\"owner_id\\\"][i],\\n        comment_id=df_threads[\\\"id\\\"][i],\\n        extended=1,\\n        fields=[\\\"bdate\\\", \\\"city\\\", \\\"home_town\\\"],\\n    )\\n    df_threads_1 = pd.json_normalize(get_comments[\\\"profiles\\\"])\\n    df_threads_ = pd.concat([df_threads_, df_threads_1])\";\n",
       "                var nbb_formatted_code = \"df_threads_ = pd.DataFrame()\\nfor i in range(len(df_threads[\\\"id\\\"])):\\n    time.sleep(3)\\n    get_comments = vk_api.wall.getComment(\\n        v=5.131,\\n        owner_id=df_threads[\\\"owner_id\\\"][i],\\n        comment_id=df_threads[\\\"id\\\"][i],\\n        extended=1,\\n        fields=[\\\"bdate\\\", \\\"city\\\", \\\"home_town\\\"],\\n    )\\n    df_threads_1 = pd.json_normalize(get_comments[\\\"profiles\\\"])\\n    df_threads_ = pd.concat([df_threads_, df_threads_1])\";\n",
       "                var nbb_cells = Jupyter.notebook.get_cells();\n",
       "                for (var i = 0; i < nbb_cells.length; ++i) {\n",
       "                    if (nbb_cells[i].input_prompt_number == nbb_cell_id) {\n",
       "                        if (nbb_cells[i].get_text() == nbb_unformatted_code) {\n",
       "                             nbb_cells[i].set_text(nbb_formatted_code);\n",
       "                        }\n",
       "                        break;\n",
       "                    }\n",
       "                }\n",
       "            }, 500);\n",
       "            "
      ],
      "text/plain": [
       "<IPython.core.display.Javascript object>"
      ]
     },
     "metadata": {},
     "output_type": "display_data"
    }
   ],
   "source": [
    "df_threads_ = pd.DataFrame()\n",
    "for i in range(len(df_threads[\"id\"])):\n",
    "    time.sleep(3)\n",
    "    get_comments = vk_api.wall.getComment(\n",
    "        v=5.131,\n",
    "        owner_id=df_threads[\"owner_id\"][i],\n",
    "        comment_id=df_threads[\"id\"][i],\n",
    "        extended=1,\n",
    "        fields=[\"bdate\", \"city\", \"home_town\"],\n",
    "    )\n",
    "    df_threads_1 = pd.json_normalize(get_comments[\"profiles\"])\n",
    "    df_threads_ = pd.concat([df_threads_, df_threads_1])"
   ]
  },
  {
   "cell_type": "code",
   "execution_count": 39,
   "id": "2e5d818a",
   "metadata": {},
   "outputs": [
    {
     "data": {
      "application/javascript": [
       "\n",
       "            setTimeout(function() {\n",
       "                var nbb_cell_id = 39;\n",
       "                var nbb_unformatted_code = \"df_threads_.to_csv('people_threads_part3.csv', index=False)\\ndf_threads_.to_csv('people_threads_part2.csv', index=False)\\ndf_threads_.to_csv('people_threads_part2.csv', index=False)\";\n",
       "                var nbb_formatted_code = \"df_threads_.to_csv(\\\"people_threads_part3.csv\\\", index=False)\\ndf_threads_.to_csv(\\\"people_threads_part2.csv\\\", index=False)\\ndf_threads_.to_csv(\\\"people_threads_part2.csv\\\", index=False)\";\n",
       "                var nbb_cells = Jupyter.notebook.get_cells();\n",
       "                for (var i = 0; i < nbb_cells.length; ++i) {\n",
       "                    if (nbb_cells[i].input_prompt_number == nbb_cell_id) {\n",
       "                        if (nbb_cells[i].get_text() == nbb_unformatted_code) {\n",
       "                             nbb_cells[i].set_text(nbb_formatted_code);\n",
       "                        }\n",
       "                        break;\n",
       "                    }\n",
       "                }\n",
       "            }, 500);\n",
       "            "
      ],
      "text/plain": [
       "<IPython.core.display.Javascript object>"
      ]
     },
     "metadata": {},
     "output_type": "display_data"
    }
   ],
   "source": [
    "df_threads_.to_csv(\"people_threads_part3.csv\", index=False)\n",
    "df_threads_.to_csv(\"people_threads_part2.csv\", index=False)\n",
    "df_threads_.to_csv(\"people_threads_part2.csv\", index=False)"
   ]
  },
  {
   "cell_type": "code",
   "execution_count": 40,
   "id": "786daa65",
   "metadata": {},
   "outputs": [
    {
     "data": {
      "application/javascript": [
       "\n",
       "            setTimeout(function() {\n",
       "                var nbb_cell_id = 40;\n",
       "                var nbb_unformatted_code = \"posts = pd.read_csv(\\\"df_posts.csv\\\")\\ncomments = pd.read_csv(\\\"comments.csv\\\")\\npeople = pd.read_csv(\\\"people.csv\\\")\\nthreads = pd.read_csv(\\\"df_threads.csv\\\")\\npeople_threads = pd.read_csv(\\\"df_threads.csv\\\")\";\n",
       "                var nbb_formatted_code = \"posts = pd.read_csv(\\\"df_posts.csv\\\")\\ncomments = pd.read_csv(\\\"comments.csv\\\")\\npeople = pd.read_csv(\\\"people.csv\\\")\\nthreads = pd.read_csv(\\\"df_threads.csv\\\")\\npeople_threads = pd.read_csv(\\\"df_threads.csv\\\")\";\n",
       "                var nbb_cells = Jupyter.notebook.get_cells();\n",
       "                for (var i = 0; i < nbb_cells.length; ++i) {\n",
       "                    if (nbb_cells[i].input_prompt_number == nbb_cell_id) {\n",
       "                        if (nbb_cells[i].get_text() == nbb_unformatted_code) {\n",
       "                             nbb_cells[i].set_text(nbb_formatted_code);\n",
       "                        }\n",
       "                        break;\n",
       "                    }\n",
       "                }\n",
       "            }, 500);\n",
       "            "
      ],
      "text/plain": [
       "<IPython.core.display.Javascript object>"
      ]
     },
     "metadata": {},
     "output_type": "display_data"
    }
   ],
   "source": [
    "posts = pd.read_csv(\"df_posts.csv\")\n",
    "comments = pd.read_csv(\"comments.csv\")\n",
    "people = pd.read_csv(\"people.csv\")\n",
    "threads = pd.read_csv(\"df_threads.csv\")\n",
    "people_threads = pd.read_csv(\"df_threads.csv\")"
   ]
  },
  {
   "cell_type": "code",
   "execution_count": 41,
   "id": "9d116f12",
   "metadata": {},
   "outputs": [
    {
     "name": "stdout",
     "output_type": "stream",
     "text": [
      "(5, 29)\n",
      "(162, 18)\n",
      "(75, 10)\n",
      "(0, 14)\n",
      "(0, 14)\n"
     ]
    },
    {
     "data": {
      "application/javascript": [
       "\n",
       "            setTimeout(function() {\n",
       "                var nbb_cell_id = 41;\n",
       "                var nbb_unformatted_code = \"for i in [posts, comments, people, threads, people_threads]:\\n    print(i.shape)\";\n",
       "                var nbb_formatted_code = \"for i in [posts, comments, people, threads, people_threads]:\\n    print(i.shape)\";\n",
       "                var nbb_cells = Jupyter.notebook.get_cells();\n",
       "                for (var i = 0; i < nbb_cells.length; ++i) {\n",
       "                    if (nbb_cells[i].input_prompt_number == nbb_cell_id) {\n",
       "                        if (nbb_cells[i].get_text() == nbb_unformatted_code) {\n",
       "                             nbb_cells[i].set_text(nbb_formatted_code);\n",
       "                        }\n",
       "                        break;\n",
       "                    }\n",
       "                }\n",
       "            }, 500);\n",
       "            "
      ],
      "text/plain": [
       "<IPython.core.display.Javascript object>"
      ]
     },
     "metadata": {},
     "output_type": "display_data"
    }
   ],
   "source": [
    "for i in [posts, comments, people, threads, people_threads]:\n",
    "    print(i.shape)"
   ]
  },
  {
   "cell_type": "markdown",
   "id": "66c4e824",
   "metadata": {},
   "source": [
    "## Describe a social portrait of people commenting on kicksharing posts in VK publics"
   ]
  },
  {
   "cell_type": "code",
   "execution_count": 42,
   "id": "782d6f57",
   "metadata": {},
   "outputs": [
    {
     "data": {
      "application/javascript": [
       "\n",
       "            setTimeout(function() {\n",
       "                var nbb_cell_id = 42;\n",
       "                var nbb_unformatted_code = \"# concatenating information about the main commentators + commentators from the thread\\nall_people = pd.concat([people, people_threads])\\nall_people = all_people[~all_people.last_name.isna()]\\nall_people.drop_duplicates(inplace=True)\\n# remove deleted and blocked users\\nall_people = all_people[~all_people.deactivated.isin([\\\"banned\\\", \\\"deleted\\\"])]\\n# there are several problems with age \\u2013 missing data and the absence of a year in the data\\n# let's take the minimum age value in terms of the number of characters and filter out those who have age data\\nall_people_with_age = all_people[\\n    all_people.bdate.apply(lambda x: len(str(x))) >= len(\\\"7.1.1985\\\")\\n]\\n#  find those who have no age or it is without a year\\nall_people_without_age = all_people[\\n    all_people.bdate.apply(lambda x: len(str(x))) < len(\\\"7.1.1985\\\")\\n]\";\n",
       "                var nbb_formatted_code = \"# concatenating information about the main commentators + commentators from the thread\\nall_people = pd.concat([people, people_threads])\\nall_people = all_people[~all_people.last_name.isna()]\\nall_people.drop_duplicates(inplace=True)\\n# remove deleted and blocked users\\nall_people = all_people[~all_people.deactivated.isin([\\\"banned\\\", \\\"deleted\\\"])]\\n# there are several problems with age \\u2013 missing data and the absence of a year in the data\\n# let's take the minimum age value in terms of the number of characters and filter out those who have age data\\nall_people_with_age = all_people[\\n    all_people.bdate.apply(lambda x: len(str(x))) >= len(\\\"7.1.1985\\\")\\n]\\n#  find those who have no age or it is without a year\\nall_people_without_age = all_people[\\n    all_people.bdate.apply(lambda x: len(str(x))) < len(\\\"7.1.1985\\\")\\n]\";\n",
       "                var nbb_cells = Jupyter.notebook.get_cells();\n",
       "                for (var i = 0; i < nbb_cells.length; ++i) {\n",
       "                    if (nbb_cells[i].input_prompt_number == nbb_cell_id) {\n",
       "                        if (nbb_cells[i].get_text() == nbb_unformatted_code) {\n",
       "                             nbb_cells[i].set_text(nbb_formatted_code);\n",
       "                        }\n",
       "                        break;\n",
       "                    }\n",
       "                }\n",
       "            }, 500);\n",
       "            "
      ],
      "text/plain": [
       "<IPython.core.display.Javascript object>"
      ]
     },
     "metadata": {},
     "output_type": "display_data"
    }
   ],
   "source": [
    "# concatenating information about the main commentators + commentators from the thread\n",
    "all_people = pd.concat([people, people_threads])\n",
    "all_people = all_people[~all_people.last_name.isna()]\n",
    "all_people.drop_duplicates(inplace=True)\n",
    "# remove deleted and blocked users\n",
    "all_people = all_people[~all_people.deactivated.isin([\"banned\", \"deleted\"])]\n",
    "# there are several problems with age – missing data and the absence of a year in the data\n",
    "# let's take the minimum age value in terms of the number of characters and filter out those who have age data\n",
    "all_people_with_age = all_people[\n",
    "    all_people.bdate.apply(lambda x: len(str(x))) >= len(\"7.1.1985\")\n",
    "]\n",
    "#  find those who have no age or it is without a year\n",
    "all_people_without_age = all_people[\n",
    "    all_people.bdate.apply(lambda x: len(str(x))) < len(\"7.1.1985\")\n",
    "]"
   ]
  },
  {
   "cell_type": "code",
   "execution_count": 43,
   "id": "35f7c45c",
   "metadata": {},
   "outputs": [
    {
     "data": {
      "text/plain": [
       "[Text(0.5, 0, 'Возраст, в годах')]"
      ]
     },
     "execution_count": 43,
     "metadata": {},
     "output_type": "execute_result"
    },
    {
     "data": {
      "image/png": "[encoded data removed]",
      "text/plain": [
       "<Figure size 432x288 with 1 Axes>"
      ]
     },
     "metadata": {
      "image/png": {
       "height": 261,
       "width": 352
      },
      "needs_background": "light"
     },
     "output_type": "display_data"
    },
    {
     "data": {
      "application/javascript": [
       "\n",
       "            setTimeout(function() {\n",
       "                var nbb_cell_id = 43;\n",
       "                var nbb_unformatted_code = \"age_list = list(all_people_with_age.bdate)\\n# Since the age format is str, it needs to be converted to datetime.\\nfor i in range(len(age_list)):\\n    if (age_list[i].find(\\\".\\\") == 1) & (\\n        age_list[i].find(\\\".\\\", age_list[i].find(\\\".\\\") + 1) == 3\\n    ):\\n        age_list[i] = \\\"0\\\" + age_list[i]\\n        age_list[i] = age_list[i][:3] + \\\"0\\\" + age_list[i][3:]\\n\\n    if (age_list[i].find(\\\".\\\") == 1) & (\\n        age_list[i].find(\\\".\\\", age_list[i].find(\\\".\\\") + 1) == 4\\n    ):\\n        age_list[i] = \\\"0\\\" + age_list[i]\\n\\n    if (age_list[i].find(\\\".\\\") == 2) & (\\n        (age_list[i].find(\\\".\\\", age_list[i].find(\\\".\\\") + 1)) == 4\\n    ):\\n        age_list[i] = age_list[i][:3] + \\\"0\\\" + age_list[i][3:]\\n\\n    if (age_list[i].find(\\\".\\\") == 1) & (\\n        age_list[i].find(\\\".\\\", age_list[i].find(\\\".\\\") + 1) == 4\\n    ):\\n        age_list[i] = \\\"0\\\" + age_list[i]\\n\\nall_people_with_age.insert(loc=1, column=\\\"age\\\", value=age_list)\\n\\nall_people_with_age[\\\"age_len\\\"] = all_people_with_age.age.apply(lambda x: len(str(x)))\\nall_people_with_age.age = all_people_with_age.age.apply(\\n    lambda x: datetime.strptime(x, \\\"%d.%m.%Y\\\")\\n)\\n\\n\\ndef calculate_age(born):\\n    today = date.today()\\n    return today.year - born.year - ((today.month, today.day) < (born.month, born.day))\\n\\n\\nall_people_with_age[\\\"age_years\\\"] = all_people_with_age.age.apply(\\n    lambda x: calculate_age(x)\\n)\\nall_people_with_age = all_people_with_age.reset_index(drop=True)\\nsns.boxplot(all_people_with_age[\\\"age_years\\\"], palette=\\\"Set3\\\").set(\\n    xlabel=\\\"\\u0412\\u043e\\u0437\\u0440\\u0430\\u0441\\u0442, \\u0432 \\u0433\\u043e\\u0434\\u0430\\u0445\\\"\\n)\";\n",
       "                var nbb_formatted_code = \"age_list = list(all_people_with_age.bdate)\\n# Since the age format is str, it needs to be converted to datetime.\\nfor i in range(len(age_list)):\\n    if (age_list[i].find(\\\".\\\") == 1) & (\\n        age_list[i].find(\\\".\\\", age_list[i].find(\\\".\\\") + 1) == 3\\n    ):\\n        age_list[i] = \\\"0\\\" + age_list[i]\\n        age_list[i] = age_list[i][:3] + \\\"0\\\" + age_list[i][3:]\\n\\n    if (age_list[i].find(\\\".\\\") == 1) & (\\n        age_list[i].find(\\\".\\\", age_list[i].find(\\\".\\\") + 1) == 4\\n    ):\\n        age_list[i] = \\\"0\\\" + age_list[i]\\n\\n    if (age_list[i].find(\\\".\\\") == 2) & (\\n        (age_list[i].find(\\\".\\\", age_list[i].find(\\\".\\\") + 1)) == 4\\n    ):\\n        age_list[i] = age_list[i][:3] + \\\"0\\\" + age_list[i][3:]\\n\\n    if (age_list[i].find(\\\".\\\") == 1) & (\\n        age_list[i].find(\\\".\\\", age_list[i].find(\\\".\\\") + 1) == 4\\n    ):\\n        age_list[i] = \\\"0\\\" + age_list[i]\\n\\nall_people_with_age.insert(loc=1, column=\\\"age\\\", value=age_list)\\n\\nall_people_with_age[\\\"age_len\\\"] = all_people_with_age.age.apply(lambda x: len(str(x)))\\nall_people_with_age.age = all_people_with_age.age.apply(\\n    lambda x: datetime.strptime(x, \\\"%d.%m.%Y\\\")\\n)\\n\\n\\ndef calculate_age(born):\\n    today = date.today()\\n    return today.year - born.year - ((today.month, today.day) < (born.month, born.day))\\n\\n\\nall_people_with_age[\\\"age_years\\\"] = all_people_with_age.age.apply(\\n    lambda x: calculate_age(x)\\n)\\nall_people_with_age = all_people_with_age.reset_index(drop=True)\\nsns.boxplot(all_people_with_age[\\\"age_years\\\"], palette=\\\"Set3\\\").set(\\n    xlabel=\\\"\\u0412\\u043e\\u0437\\u0440\\u0430\\u0441\\u0442, \\u0432 \\u0433\\u043e\\u0434\\u0430\\u0445\\\"\\n)\";\n",
       "                var nbb_cells = Jupyter.notebook.get_cells();\n",
       "                for (var i = 0; i < nbb_cells.length; ++i) {\n",
       "                    if (nbb_cells[i].input_prompt_number == nbb_cell_id) {\n",
       "                        if (nbb_cells[i].get_text() == nbb_unformatted_code) {\n",
       "                             nbb_cells[i].set_text(nbb_formatted_code);\n",
       "                        }\n",
       "                        break;\n",
       "                    }\n",
       "                }\n",
       "            }, 500);\n",
       "            "
      ],
      "text/plain": [
       "<IPython.core.display.Javascript object>"
      ]
     },
     "metadata": {},
     "output_type": "display_data"
    }
   ],
   "source": [
    "age_list = list(all_people_with_age.bdate)\n",
    "# Since the age format is str, it needs to be converted to datetime.\n",
    "for i in range(len(age_list)):\n",
    "    if (age_list[i].find(\".\") == 1) & (\n",
    "        age_list[i].find(\".\", age_list[i].find(\".\") + 1) == 3\n",
    "    ):\n",
    "        age_list[i] = \"0\" + age_list[i]\n",
    "        age_list[i] = age_list[i][:3] + \"0\" + age_list[i][3:]\n",
    "\n",
    "    if (age_list[i].find(\".\") == 1) & (\n",
    "        age_list[i].find(\".\", age_list[i].find(\".\") + 1) == 4\n",
    "    ):\n",
    "        age_list[i] = \"0\" + age_list[i]\n",
    "\n",
    "    if (age_list[i].find(\".\") == 2) & (\n",
    "        (age_list[i].find(\".\", age_list[i].find(\".\") + 1)) == 4\n",
    "    ):\n",
    "        age_list[i] = age_list[i][:3] + \"0\" + age_list[i][3:]\n",
    "\n",
    "    if (age_list[i].find(\".\") == 1) & (\n",
    "        age_list[i].find(\".\", age_list[i].find(\".\") + 1) == 4\n",
    "    ):\n",
    "        age_list[i] = \"0\" + age_list[i]\n",
    "\n",
    "all_people_with_age.insert(loc=1, column=\"age\", value=age_list)\n",
    "\n",
    "all_people_with_age[\"age_len\"] = all_people_with_age.age.apply(lambda x: len(str(x)))\n",
    "all_people_with_age.age = all_people_with_age.age.apply(\n",
    "    lambda x: datetime.strptime(x, \"%d.%m.%Y\")\n",
    ")\n",
    "\n",
    "\n",
    "def calculate_age(born):\n",
    "    today = date.today()\n",
    "    return today.year - born.year - ((today.month, today.day) < (born.month, born.day))\n",
    "\n",
    "\n",
    "all_people_with_age[\"age_years\"] = all_people_with_age.age.apply(\n",
    "    lambda x: calculate_age(x)\n",
    ")\n",
    "all_people_with_age = all_people_with_age.reset_index(drop=True)\n",
    "sns.boxplot(all_people_with_age[\"age_years\"], palette=\"Set3\").set(\n",
    "    xlabel=\"Возраст, в годах\"\n",
    ")"
   ]
  },
  {
   "cell_type": "code",
   "execution_count": 44,
   "id": "a8b75fb6",
   "metadata": {},
   "outputs": [
    {
     "name": "stdout",
     "output_type": "stream",
     "text": [
      "Median age is 30.0\n"
     ]
    },
    {
     "data": {
      "application/javascript": [
       "\n",
       "            setTimeout(function() {\n",
       "                var nbb_cell_id = 44;\n",
       "                var nbb_unformatted_code = \"# The graph shows that there are outliers in the data.\\n# Let's apply the z-criteria in order to identify the index of people with an outlier age.\\nz = np.abs(stats.zscore(all_people_with_age[\\\"age_years\\\"]))\\nthreshold = 3\\noutliers_age = list((np.where(z > 3))[0])\\n\\n# Let's remove outliers from the data and calculate the median\\nall_people_with_age_without_outliers = all_people_with_age[\\n    ~all_people_with_age.index.isin(outliers_age)\\n]\\nprint(f\\\"Median age is {all_people_with_age_without_outliers.age_years.median()}\\\")\";\n",
       "                var nbb_formatted_code = \"# The graph shows that there are outliers in the data.\\n# Let's apply the z-criteria in order to identify the index of people with an outlier age.\\nz = np.abs(stats.zscore(all_people_with_age[\\\"age_years\\\"]))\\nthreshold = 3\\noutliers_age = list((np.where(z > 3))[0])\\n\\n# Let's remove outliers from the data and calculate the median\\nall_people_with_age_without_outliers = all_people_with_age[\\n    ~all_people_with_age.index.isin(outliers_age)\\n]\\nprint(f\\\"Median age is {all_people_with_age_without_outliers.age_years.median()}\\\")\";\n",
       "                var nbb_cells = Jupyter.notebook.get_cells();\n",
       "                for (var i = 0; i < nbb_cells.length; ++i) {\n",
       "                    if (nbb_cells[i].input_prompt_number == nbb_cell_id) {\n",
       "                        if (nbb_cells[i].get_text() == nbb_unformatted_code) {\n",
       "                             nbb_cells[i].set_text(nbb_formatted_code);\n",
       "                        }\n",
       "                        break;\n",
       "                    }\n",
       "                }\n",
       "            }, 500);\n",
       "            "
      ],
      "text/plain": [
       "<IPython.core.display.Javascript object>"
      ]
     },
     "metadata": {},
     "output_type": "display_data"
    }
   ],
   "source": [
    "# The graph shows that there are outliers in the data.\n",
    "# Let's apply the z-criteria in order to identify the index of people with an outlier age.\n",
    "z = np.abs(stats.zscore(all_people_with_age[\"age_years\"]))\n",
    "threshold = 3\n",
    "outliers_age = list((np.where(z > 3))[0])\n",
    "\n",
    "# Let's remove outliers from the data and calculate the median\n",
    "all_people_with_age_without_outliers = all_people_with_age[\n",
    "    ~all_people_with_age.index.isin(outliers_age)\n",
    "]\n",
    "print(f\"Median age is {all_people_with_age_without_outliers.age_years.median()}\")"
   ]
  },
  {
   "cell_type": "code",
   "execution_count": 45,
   "id": "952129d9",
   "metadata": {},
   "outputs": [
    {
     "name": "stdout",
     "output_type": "stream",
     "text": [
      "Median age for people with age is 30.0\n"
     ]
    },
    {
     "data": {
      "application/javascript": [
       "\n",
       "            setTimeout(function() {\n",
       "                var nbb_cell_id = 45;\n",
       "                var nbb_unformatted_code = \"# Replace the age of people with the age-outlier by the median and calculate the median for all people with age\\nall_people_with_age.loc[\\n    outliers_age, \\\"age_years\\\"\\n] = all_people_with_age_without_outliers.age_years.median()\\nprint(f\\\"Median age for people with age is {all_people_with_age.age_years.median()}\\\")\";\n",
       "                var nbb_formatted_code = \"# Replace the age of people with the age-outlier by the median and calculate the median for all people with age\\nall_people_with_age.loc[\\n    outliers_age, \\\"age_years\\\"\\n] = all_people_with_age_without_outliers.age_years.median()\\nprint(f\\\"Median age for people with age is {all_people_with_age.age_years.median()}\\\")\";\n",
       "                var nbb_cells = Jupyter.notebook.get_cells();\n",
       "                for (var i = 0; i < nbb_cells.length; ++i) {\n",
       "                    if (nbb_cells[i].input_prompt_number == nbb_cell_id) {\n",
       "                        if (nbb_cells[i].get_text() == nbb_unformatted_code) {\n",
       "                             nbb_cells[i].set_text(nbb_formatted_code);\n",
       "                        }\n",
       "                        break;\n",
       "                    }\n",
       "                }\n",
       "            }, 500);\n",
       "            "
      ],
      "text/plain": [
       "<IPython.core.display.Javascript object>"
      ]
     },
     "metadata": {},
     "output_type": "display_data"
    }
   ],
   "source": [
    "# Replace the age of people with the age-outlier by the median and calculate the median for all people with age\n",
    "all_people_with_age.loc[\n",
    "    outliers_age, \"age_years\"\n",
    "] = all_people_with_age_without_outliers.age_years.median()\n",
    "print(f\"Median age for people with age is {all_people_with_age.age_years.median()}\")"
   ]
  },
  {
   "cell_type": "code",
   "execution_count": 46,
   "id": "a55b6da1",
   "metadata": {},
   "outputs": [
    {
     "name": "stdout",
     "output_type": "stream",
     "text": [
      "count    33.000000\n",
      "mean     33.636364\n",
      "std      13.390337\n",
      "min      14.000000\n",
      "25%      27.000000\n",
      "50%      30.000000\n",
      "75%      33.000000\n",
      "max      89.000000\n",
      "Name: age_years, dtype: float64\n"
     ]
    },
    {
     "data": {
      "application/javascript": [
       "\n",
       "            setTimeout(function() {\n",
       "                var nbb_cell_id = 46;\n",
       "                var nbb_unformatted_code = \"print(all_people_with_age.age_years.describe())\";\n",
       "                var nbb_formatted_code = \"print(all_people_with_age.age_years.describe())\";\n",
       "                var nbb_cells = Jupyter.notebook.get_cells();\n",
       "                for (var i = 0; i < nbb_cells.length; ++i) {\n",
       "                    if (nbb_cells[i].input_prompt_number == nbb_cell_id) {\n",
       "                        if (nbb_cells[i].get_text() == nbb_unformatted_code) {\n",
       "                             nbb_cells[i].set_text(nbb_formatted_code);\n",
       "                        }\n",
       "                        break;\n",
       "                    }\n",
       "                }\n",
       "            }, 500);\n",
       "            "
      ],
      "text/plain": [
       "<IPython.core.display.Javascript object>"
      ]
     },
     "metadata": {},
     "output_type": "display_data"
    }
   ],
   "source": [
    "print(all_people_with_age.age_years.describe())"
   ]
  },
  {
   "cell_type": "code",
   "execution_count": 47,
   "id": "e8cf038d",
   "metadata": {
    "scrolled": true
   },
   "outputs": [
    {
     "data": {
      "application/javascript": [
       "\n",
       "            setTimeout(function() {\n",
       "                var nbb_cell_id = 47;\n",
       "                var nbb_unformatted_code = \"# get the final dataset with the correct age for all users\\nall_people_without_age[\\\"age_years\\\"] = all_people_with_age.age_years.median()\\nall_people_clear_age = pd.concat([all_people_without_age, all_people_with_age])\\nall_people_clear_age.reset_index(drop=True, inplace=True)\";\n",
       "                var nbb_formatted_code = \"# get the final dataset with the correct age for all users\\nall_people_without_age[\\\"age_years\\\"] = all_people_with_age.age_years.median()\\nall_people_clear_age = pd.concat([all_people_without_age, all_people_with_age])\\nall_people_clear_age.reset_index(drop=True, inplace=True)\";\n",
       "                var nbb_cells = Jupyter.notebook.get_cells();\n",
       "                for (var i = 0; i < nbb_cells.length; ++i) {\n",
       "                    if (nbb_cells[i].input_prompt_number == nbb_cell_id) {\n",
       "                        if (nbb_cells[i].get_text() == nbb_unformatted_code) {\n",
       "                             nbb_cells[i].set_text(nbb_formatted_code);\n",
       "                        }\n",
       "                        break;\n",
       "                    }\n",
       "                }\n",
       "            }, 500);\n",
       "            "
      ],
      "text/plain": [
       "<IPython.core.display.Javascript object>"
      ]
     },
     "metadata": {},
     "output_type": "display_data"
    }
   ],
   "source": [
    "# get the final dataset with the correct age for all users\n",
    "all_people_without_age[\"age_years\"] = all_people_with_age.age_years.median()\n",
    "all_people_clear_age = pd.concat([all_people_without_age, all_people_with_age])\n",
    "all_people_clear_age.reset_index(drop=True, inplace=True)"
   ]
  },
  {
   "cell_type": "markdown",
   "id": "89618996",
   "metadata": {},
   "source": [
    "### Age distribution"
   ]
  },
  {
   "cell_type": "code",
   "execution_count": 58,
   "id": "263581a8",
   "metadata": {},
   "outputs": [
    {
     "ename": "NameError",
     "evalue": "name 'people_final' is not defined",
     "output_type": "error",
     "traceback": [
      "\u001b[1;31m---------------------------------------------------------------------------\u001b[0m",
      "\u001b[1;31mNameError\u001b[0m                                 Traceback (most recent call last)",
      "\u001b[1;32m~\\AppData\\Local\\Temp/ipykernel_18632/1927621352.py\u001b[0m in \u001b[0;36m<module>\u001b[1;34m\u001b[0m\n\u001b[1;32m----> 1\u001b[1;33m \u001b[0mpeople_final\u001b[0m\u001b[1;33m[\u001b[0m\u001b[1;34m\"age_years\"\u001b[0m\u001b[1;33m]\u001b[0m \u001b[1;33m=\u001b[0m \u001b[0mpeople_final\u001b[0m\u001b[1;33m[\u001b[0m\u001b[1;34m\"age_years\"\u001b[0m\u001b[1;33m]\u001b[0m\u001b[1;33m.\u001b[0m\u001b[0mapply\u001b[0m\u001b[1;33m(\u001b[0m\u001b[1;32mlambda\u001b[0m \u001b[0mx\u001b[0m\u001b[1;33m:\u001b[0m \u001b[0mint\u001b[0m\u001b[1;33m(\u001b[0m\u001b[0mx\u001b[0m\u001b[1;33m)\u001b[0m\u001b[1;33m)\u001b[0m\u001b[1;33m\u001b[0m\u001b[1;33m\u001b[0m\u001b[0m\n\u001b[0m",
      "\u001b[1;31mNameError\u001b[0m: name 'people_final' is not defined"
     ]
    },
    {
     "data": {
      "application/javascript": [
       "\n",
       "            setTimeout(function() {\n",
       "                var nbb_cell_id = 58;\n",
       "                var nbb_unformatted_code = \"people_final[\\\"age_years\\\"] = people_final[\\\"age_years\\\"].apply(lambda x: int(x))\";\n",
       "                var nbb_formatted_code = \"people_final[\\\"age_years\\\"] = people_final[\\\"age_years\\\"].apply(lambda x: int(x))\";\n",
       "                var nbb_cells = Jupyter.notebook.get_cells();\n",
       "                for (var i = 0; i < nbb_cells.length; ++i) {\n",
       "                    if (nbb_cells[i].input_prompt_number == nbb_cell_id) {\n",
       "                        if (nbb_cells[i].get_text() == nbb_unformatted_code) {\n",
       "                             nbb_cells[i].set_text(nbb_formatted_code);\n",
       "                        }\n",
       "                        break;\n",
       "                    }\n",
       "                }\n",
       "            }, 500);\n",
       "            "
      ],
      "text/plain": [
       "<IPython.core.display.Javascript object>"
      ]
     },
     "metadata": {},
     "output_type": "display_data"
    }
   ],
   "source": [
    "people_final[\"age_years\"] = people_final[\"age_years\"].apply(lambda x: int(x))"
   ]
  },
  {
   "cell_type": "code",
   "execution_count": null,
   "id": "6d422008",
   "metadata": {},
   "outputs": [],
   "source": [
    "mean = people_final[\"age_years\"].mean()\n",
    "print(f\"Mean age is {mean}\")"
   ]
  },
  {
   "cell_type": "code",
   "execution_count": null,
   "id": "75194a14",
   "metadata": {},
   "outputs": [],
   "source": [
    "median = people_final[\"age_years\"].median()\n",
    "print(f\"Median age is {median}\")"
   ]
  },
  {
   "cell_type": "code",
   "execution_count": null,
   "id": "b5ef5c10",
   "metadata": {},
   "outputs": [],
   "source": [
    "mode = people_final[\"age_years\"].mode()\n",
    "print(f\"Mode age is {mode[0]}\")"
   ]
  },
  {
   "cell_type": "code",
   "execution_count": null,
   "id": "5dce128c",
   "metadata": {},
   "outputs": [],
   "source": [
    "print(f'Variance is {var(people_final[\"age_years\"])}')"
   ]
  },
  {
   "cell_type": "code",
   "execution_count": null,
   "id": "18359ea5",
   "metadata": {},
   "outputs": [],
   "source": [
    "print(f'Standart deviation is {std(people_final[\"age_years\"])}')"
   ]
  },
  {
   "cell_type": "markdown",
   "id": "869ee42c",
   "metadata": {},
   "source": [
    "Therefore, the average age of users is within 38 +- 9.1 * 3"
   ]
  },
  {
   "cell_type": "code",
   "execution_count": null,
   "id": "2bb122aa",
   "metadata": {},
   "outputs": [],
   "source": [
    "RQ = people_final[\"age_years\"].describe()[6] - people_final[\"age_years\"].describe()[4]\n",
    "RQ"
   ]
  },
  {
   "cell_type": "markdown",
   "id": "2d7edaf9",
   "metadata": {},
   "source": [
    "*RQ is 0, the age data is homogeneous*"
   ]
  },
  {
   "cell_type": "code",
   "execution_count": null,
   "id": "9b0b4a34",
   "metadata": {},
   "outputs": [],
   "source": [
    "std(people_final[\"age_years\"]) / people_final[\"age_years\"].mean()"
   ]
  },
  {
   "cell_type": "markdown",
   "id": "20e01994",
   "metadata": {},
   "source": [
    "*Since the coefficient of variation does not exceed 30-35%, the age data are highly homogeneous.*"
   ]
  },
  {
   "cell_type": "code",
   "execution_count": null,
   "id": "70e879d6",
   "metadata": {},
   "outputs": [],
   "source": [
    "sns.boxplot(people_final[\"age_years\"]).set(xlabel=\"Возраст, в годах\")"
   ]
  },
  {
   "cell_type": "code",
   "execution_count": null,
   "id": "f376081d",
   "metadata": {},
   "outputs": [],
   "source": [
    "# Let's look at the statistics on data in which omissions and dates of birth were removed without specifying the year"
   ]
  },
  {
   "cell_type": "code",
   "execution_count": null,
   "id": "18322b91",
   "metadata": {},
   "outputs": [],
   "source": [
    "all_people_with_age[\"age_years\"] = all_people_with_age[\"age_years\"].apply(\n",
    "    lambda x: int(x)\n",
    ")"
   ]
  },
  {
   "cell_type": "code",
   "execution_count": null,
   "id": "dd278759",
   "metadata": {},
   "outputs": [],
   "source": [
    "mean2 = all_people_with_age[\"age_years\"].mean()\n",
    "print(f\"Mean age is {mean2}\")"
   ]
  },
  {
   "cell_type": "code",
   "execution_count": null,
   "id": "752c76bf",
   "metadata": {},
   "outputs": [],
   "source": [
    "median2 = all_people_with_age[\"age_years\"].median()\n",
    "print(f\"Median age is {median2}\")"
   ]
  },
  {
   "cell_type": "code",
   "execution_count": null,
   "id": "4244fe59",
   "metadata": {},
   "outputs": [],
   "source": [
    "mode2 = all_people_with_age[\"age_years\"].mode()\n",
    "print(f\"Mode age is {mode2[0]}\")"
   ]
  },
  {
   "cell_type": "code",
   "execution_count": null,
   "id": "0901715e",
   "metadata": {},
   "outputs": [],
   "source": [
    "print(f'Variance is {var(all_people_with_age[\"age_years\"])}')"
   ]
  },
  {
   "cell_type": "code",
   "execution_count": null,
   "id": "5f4d8093",
   "metadata": {},
   "outputs": [],
   "source": [
    "print(f'Standart deviation is {std(all_people_with_age[\"age_years\"])}')"
   ]
  },
  {
   "cell_type": "markdown",
   "id": "05cf5875",
   "metadata": {},
   "source": [
    "*Therefore, the average age of users is within 40 +- 13.6 * 3*"
   ]
  },
  {
   "cell_type": "code",
   "execution_count": null,
   "id": "9b4419b0",
   "metadata": {},
   "outputs": [],
   "source": [
    "RQ = (\n",
    "    all_people_with_age[\"age_years\"].describe()[6]\n",
    "    - all_people_with_age[\"age_years\"].describe()[4]\n",
    ")\n",
    "RQ  "
   ]
  },
  {
   "cell_type": "code",
   "execution_count": null,
   "id": "71e1a12d",
   "metadata": {},
   "outputs": [],
   "source": [
    "std(all_people_with_age[\"age_years\"]) / all_people_with_age[\"age_years\"].mean()"
   ]
  },
  {
   "cell_type": "markdown",
   "id": "6cfd1d46",
   "metadata": {},
   "source": [
    "*Since the coefficient of variation does not exceed 30-35%, the age data still have a high uniformity.*"
   ]
  },
  {
   "cell_type": "code",
   "execution_count": null,
   "id": "e836735f",
   "metadata": {},
   "outputs": [],
   "source": [
    "sns.boxplot(all_people_with_age[\"age_years\"], palette=\"pastel\").set(\n",
    "    xlabel=\"Возраст, в годах\"\n",
    ")"
   ]
  },
  {
   "cell_type": "markdown",
   "id": "7fe93881",
   "metadata": {},
   "source": [
    "### City distribution"
   ]
  },
  {
   "cell_type": "code",
   "execution_count": null,
   "id": "a153fa9b",
   "metadata": {},
   "outputs": [],
   "source": [
    "pd.DataFrame(people_final[\"city\"].value_counts(normalize=True).head(10))"
   ]
  },
  {
   "cell_type": "markdown",
   "id": "ed70da6c",
   "metadata": {},
   "source": [
    "*Since the city variable is measured on a nominal scale, mode is used as a measure of the central trend, and the spread measure is the coefficient of qualitative variation.*"
   ]
  },
  {
   "cell_type": "code",
   "execution_count": null,
   "id": "ead90851",
   "metadata": {},
   "outputs": [],
   "source": [
    "mode_city = people_final[\"city\"].mode()[0]\n",
    "print(f'Mode of the city is \"{mode_city}\"')"
   ]
  },
  {
   "cell_type": "code",
   "execution_count": null,
   "id": "cbdf6100",
   "metadata": {},
   "outputs": [],
   "source": [
    "# the coefficient of qualitative variation\n",
    "n = 4709\n",
    "k = 617\n",
    "numerator = (2 * k) / (n ** 2 * (k - 1))"
   ]
  },
  {
   "cell_type": "code",
   "execution_count": null,
   "id": "526cdfe5",
   "metadata": {},
   "outputs": [],
   "source": [
    "city_list = list(np.array(people_final[\"city\"].value_counts()))\n",
    "reverse_list = city_list[::-1]\n",
    "denominator = np.dot(city_list[:616][::-1], list(np.cumsum(reverse_list))[:616])"
   ]
  },
  {
   "cell_type": "code",
   "execution_count": null,
   "id": "024e2a05",
   "metadata": {},
   "outputs": [],
   "source": [
    "numerator * denominator"
   ]
  },
  {
   "cell_type": "markdown",
   "id": "736d8cbc",
   "metadata": {},
   "source": [
    "**So, the coefficient of qualitative variationis 0.69. Thus, since the the coefficient of qualitative variation is close enough to 1, it means that from the point of view of the distribution by city, the data are heterogeneous.*"
   ]
  },
  {
   "cell_type": "code",
   "execution_count": null,
   "id": "84561fc6",
   "metadata": {},
   "outputs": [],
   "source": [
    "# It is obvious that the distribution is heterogeneous due to filling in the gaps with a mode with the value \"Moscow\"\n",
    "# Let's look at the statistics on the data in which the omissions were removed"
   ]
  },
  {
   "cell_type": "code",
   "execution_count": null,
   "id": "3814e93b",
   "metadata": {},
   "outputs": [],
   "source": [
    "pd.DataFrame(df_city_[\"city\"].value_counts(normalize=True).head(10))"
   ]
  },
  {
   "cell_type": "code",
   "execution_count": null,
   "id": "523532ae",
   "metadata": {},
   "outputs": [],
   "source": [
    "mode_city = df_city_[\"city\"].mode()[0]\n",
    "print(f'Mode is \"{mode_city}\"')"
   ]
  },
  {
   "cell_type": "code",
   "execution_count": null,
   "id": "f83e42c3",
   "metadata": {},
   "outputs": [],
   "source": [
    "# the coefficient of qualitative variation\n",
    "n2 = 3477\n",
    "k2 = 617\n",
    "numerator2 = (2 * k2) / (n2 ** 2 * (k2 - 1))"
   ]
  },
  {
   "cell_type": "code",
   "execution_count": null,
   "id": "2c28b8bc",
   "metadata": {},
   "outputs": [],
   "source": [
    "city_list2 = list(np.array(df_city_[\"city\"].value_counts()))\n",
    "reverse_list2 = city_list2[::-1]\n",
    "denominator2 = np.dot(city_list2[:616][::-1], list(np.cumsum(reverse_list2))[:616])"
   ]
  },
  {
   "cell_type": "code",
   "execution_count": null,
   "id": "8f9aa36b",
   "metadata": {},
   "outputs": [],
   "source": [
    "numerator2 * denominator2"
   ]
  },
  {
   "cell_type": "markdown",
   "id": "070d6a78",
   "metadata": {},
   "source": [
    "So, the coefficient of qualitative variation is 0.84. Thus, since the coefficient of qualitative variation is close enough to 1, it means that from the point of view of gender distribution, the data became even more heterogeneous after the omissions were removed."
   ]
  },
  {
   "cell_type": "markdown",
   "id": "a8b8454b",
   "metadata": {},
   "source": [
    "## Identify the most popular terms used in the discussion of the topic of kicksharing"
   ]
  },
  {
   "cell_type": "code",
   "execution_count": null,
   "id": "b7d55975",
   "metadata": {
    "scrolled": true
   },
   "outputs": [],
   "source": [
    "threads = threads.dropna(subset=\"text\")\n",
    "\n",
    "\n",
    "def comment_without_id(x):\n",
    "    try:\n",
    "        return x.split(\"],\")[1]\n",
    "    except:\n",
    "        return x.split(\"],\")[0]\n",
    "\n",
    "\n",
    "threads.text = threads.text.apply(lambda x: comment_without_id(x))\n",
    "\n",
    "threads = threads.dropna(subset=\"text\")\n",
    "threads = threads[threads.text != \"\"]\n",
    "\n",
    "all_comments = pd.concat([comments, threads]).dropna(subset=\"text\")\n",
    "all_comments.text = all_comments.text.apply(lambda x: x.lower()).apply(\n",
    "    lambda x: re.sub(r\"\\d+\", \"\", x)\n",
    ")\n",
    "all_comments = all_comments.reset_index(drop=True)\n",
    "all_comments[\"text_for_sentiment\"] = (\n",
    "    all_comments.text.apply(\n",
    "        lambda x: x.translate(str.maketrans(\"\", \"\", string.punctuation))\n",
    "    )\n",
    "    .apply(lambda x: x.strip().replace(\"\\r\\n\", \"\\n\").replace(\"\\r\", \"\\n\"))\n",
    "    .apply(lambda x: re.sub(r\"\\n\", \"\", x))\n",
    ")\n",
    "\n",
    "mystem = Mystem()\n",
    "russian_stopwords = stopwords.words(\"russian\") + [\n",
    "    \"это\",\n",
    "    \"хотеть\",\n",
    "    \"делать\",\n",
    "    \"начинать\",\n",
    "    \"хотеться\",\n",
    "    \"мочь\",\n",
    "    \"который\",\n",
    "    \"весь\",\n",
    "    \"свой\",\n",
    "]\n",
    "\n",
    "\n",
    "def preprocess_text(text):\n",
    "    tokens = mystem.lemmatize(text.lower())\n",
    "    tokens = [\n",
    "        token\n",
    "        for token in tokens\n",
    "        if token not in russian_stopwords\n",
    "        and token != \" \"\n",
    "        and token.strip() not in punctuation\n",
    "        and token not in russian_stopwords\n",
    "    ]\n",
    "\n",
    "    text = \" \".join(tokens)\n",
    "\n",
    "    return text\n",
    "\n",
    "\n",
    "def remove_emoji(string):\n",
    "    emoji_pattern = re.compile(\n",
    "        \"[\"\n",
    "        u\"\\U0001F600-\\U0001F64F\"  # emoticons\n",
    "        u\"\\U0001F300-\\U0001F5FF\"  # symbols & pictographs\n",
    "        u\"\\U0001F680-\\U0001F6FF\"  # transport & map symbols\n",
    "        u\"\\U0001F1E0-\\U0001F1FF\"  # flags (iOS)\n",
    "        u\"\\U00002500-\\U00002BEF\"  # chinese char\n",
    "        u\"\\U00002702-\\U000027B0\"\n",
    "        u\"\\U00002702-\\U000027B0\"\n",
    "        u\"\\U000024C2-\\U0001F251\"\n",
    "        u\"\\U0001f926-\\U0001f937\"\n",
    "        u\"\\U00010000-\\U0010ffff\"\n",
    "        u\"\\u2640-\\u2642\"\n",
    "        u\"\\u2600-\\u2B55\"\n",
    "        u\"\\u200d\"\n",
    "        u\"\\u23cf\"\n",
    "        u\"\\u23e9\"\n",
    "        u\"\\u231a\"\n",
    "        u\"\\ufe0f\"  # dingbats\n",
    "        u\"\\u3030\"\n",
    "        \"]+\",\n",
    "        flags=re.UNICODE,\n",
    "    )\n",
    "    return emoji_pattern.sub(r\"\", string)\n",
    "\n",
    "\n",
    "all_comments.text = all_comments.text.apply(lambda x: preprocess_text(remove_emoji(x)))\n",
    "all_comments = (\n",
    "    all_comments[all_comments.text != \"\"].dropna(subset=\"text\").reset_index(drop=True)\n",
    ")\n",
    "all_comments[\"text\"] = all_comments[\"text\"].apply(lambda x: str(x))\n",
    "clean = all_comments[\"text\"].values"
   ]
  },
  {
   "cell_type": "code",
   "execution_count": null,
   "id": "73e53403",
   "metadata": {},
   "outputs": [],
   "source": [
    "np.savetxt(\"text.txt\", all_comments[\"text\"].values, delimiter=\" \", fmt=\"%s\")\n",
    "\n",
    "with open(\"clean_data.txt\", \"w\") as output:\n",
    "    output.write(str(clean)[2:-2])\n",
    "\n",
    "with open(\"text.txt\", \"r\", encoding=\"utf-8\") as f:\n",
    "    stop_words = f.read().split()\n",
    "\n",
    "with open(\"text.txt\", \"r\", encoding=\"utf-8\") as f:\n",
    "    words = f.read().split()"
   ]
  },
  {
   "cell_type": "code",
   "execution_count": null,
   "id": "df912fb8",
   "metadata": {},
   "outputs": [],
   "source": [
    "words = [word.replace(\"'\", \"\") for word in words]\n",
    "words = list(filter(lambda x: x != \"»\", words))\n",
    "words = list(filter(lambda x: x != \"«\", words))\n",
    "data = Counter(words)"
   ]
  },
  {
   "cell_type": "code",
   "execution_count": null,
   "id": "d53cddd3",
   "metadata": {},
   "outputs": [],
   "source": [
    "background_color = \"#101010\"\n",
    "height = 720\n",
    "width = 1080\n",
    "\n",
    "word_cloud = WordCloud(background_color=background_color, width=width, height=height)\n",
    "\n",
    "word_cloud.generate_from_frequencies(data)\n",
    "\n",
    "word_cloud.to_file(\"image_11.png\")"
   ]
  },
  {
   "cell_type": "code",
   "execution_count": null,
   "id": "0f8640c0",
   "metadata": {
    "scrolled": true
   },
   "outputs": [],
   "source": [
    "all_comments.to_csv(\"data_before_.csv\", index=False)"
   ]
  },
  {
   "cell_type": "markdown",
   "id": "d2dc1e93",
   "metadata": {},
   "source": [
    "## To determine the sentiment of messages about the kicksharing"
   ]
  },
  {
   "cell_type": "code",
   "execution_count": null,
   "id": "5355ea72",
   "metadata": {},
   "outputs": [],
   "source": [
    "data = pd.read_csv(\"data_before_.csv\")\n",
    "data.shape"
   ]
  },
  {
   "cell_type": "code",
   "execution_count": null,
   "id": "d378da64",
   "metadata": {},
   "outputs": [],
   "source": [
    "model_checkpoint = \"blanchefort/rubert-base-cased-sentiment\"\n",
    "classifier = pipeline(\"sentiment-analysis\", model=model_checkpoint)"
   ]
  },
  {
   "cell_type": "code",
   "execution_count": null,
   "id": "6c72aadd",
   "metadata": {},
   "outputs": [],
   "source": [
    "data = data[data.text_for_sentiment.apply(lambda x: len(str(x))) < 512]\n",
    "data.shape"
   ]
  },
  {
   "cell_type": "code",
   "execution_count": null,
   "id": "405bcdd7",
   "metadata": {},
   "outputs": [],
   "source": [
    "data['sentiment_analysis_value'] = data['text_for_sentiment'].apply(lambda x: classifier(x)[0]['label'])\n",
    "data['sentiment_analysis_score'] = data['text_for_sentiment'].apply(lambda x: classifier(x)[0]['score'])\n",
    "data.to_csv('data_with_sentiment.csv', index=False)"
   ]
  },
  {
   "cell_type": "code",
   "execution_count": null,
   "id": "20c99dcf",
   "metadata": {},
   "outputs": [],
   "source": [
    "data = pd.read_csv(\"data_with_sentiment.csv\")\n",
    "print(data.sentiment_analysis_value.value_counts())"
   ]
  },
  {
   "cell_type": "markdown",
   "id": "5edea679",
   "metadata": {},
   "source": [
    "## To identify whether the sentiment of the messages about the phenomenon depends on the tone of the news publication"
   ]
  },
  {
   "cell_type": "code",
   "execution_count": null,
   "id": "278f0046",
   "metadata": {},
   "outputs": [],
   "source": [
    "missing_posts = posts[posts.text.isna()]\n",
    "missing_posts = missing_posts.dropna(subset=\"copy_history\")"
   ]
  },
  {
   "cell_type": "code",
   "execution_count": null,
   "id": "353566f9",
   "metadata": {},
   "outputs": [],
   "source": [
    "df_missing_posts = pd.DataFrame()\n",
    "for i in missing_posts[\"copy_history\"].index:\n",
    "    miss_post = ast.literal_eval(missing_posts[\"copy_history\"][i])\n",
    "    df_miss_post = pd.json_normalize(miss_post)\n",
    "    df_missing_posts = pd.concat([df_miss_post, df_missing_posts])"
   ]
  },
  {
   "cell_type": "code",
   "execution_count": null,
   "id": "c48c549d",
   "metadata": {},
   "outputs": [],
   "source": [
    "df_missing_posts = df_missing_posts.set_index(missing_posts.index)"
   ]
  },
  {
   "cell_type": "code",
   "execution_count": null,
   "id": "0018b780",
   "metadata": {},
   "outputs": [],
   "source": [
    "for i in missing_posts.index:\n",
    "    posts.text[i] = df_missing_posts.text[i]"
   ]
  },
  {
   "cell_type": "code",
   "execution_count": null,
   "id": "770750c4",
   "metadata": {},
   "outputs": [],
   "source": [
    "posts = posts.dropna(subset=\"text\")"
   ]
  },
  {
   "cell_type": "code",
   "execution_count": null,
   "id": "d9529c7b",
   "metadata": {
    "scrolled": true
   },
   "outputs": [],
   "source": [
    "posts = posts.reset_index(drop=True)"
   ]
  },
  {
   "cell_type": "code",
   "execution_count": null,
   "id": "75d52645",
   "metadata": {},
   "outputs": [],
   "source": [
    "posts.text = posts.text.apply(lambda x: x.lower())\n",
    "posts.text = posts.text.apply(lambda x: re.sub(r\"\\d+\", \"\", x))\n",
    "posts = posts.reset_index(drop=True)\n",
    "posts.text = posts.text.apply(\n",
    "    lambda x: x.translate(str.maketrans(\"\", \"\", string.punctuation))\n",
    ")\n",
    "posts.text = posts.text.apply(\n",
    "    lambda x: x.strip().replace(\"\\r\\n\", \"\\n\").replace(\"\\r\", \"\\n\")\n",
    ")\n",
    "posts.text = posts.text.apply(lambda x: re.sub(r\"\\n\", \"\", x))\n",
    "posts.text = posts.text.apply(lambda x: re.sub(r\"\\n\", \"\", x))\n",
    "posts[\"text_for_sentiment\"] = posts.text"
   ]
  },
  {
   "cell_type": "code",
   "execution_count": null,
   "id": "062f631f",
   "metadata": {
    "scrolled": true
   },
   "outputs": [],
   "source": [
    "posts.to_csv('posts_for_sentiment.csv', index=False)"
   ]
  },
  {
   "cell_type": "code",
   "execution_count": null,
   "id": "2a4b86dc",
   "metadata": {
    "scrolled": true
   },
   "outputs": [],
   "source": [
    "posts = pd.read_csv(\"posts_for_sentiment.csv\")"
   ]
  },
  {
   "cell_type": "code",
   "execution_count": null,
   "id": "73c5cdea",
   "metadata": {},
   "outputs": [],
   "source": [
    "posts[\"len_of_post\"] = posts[\"text_for_sentiment\"].apply(lambda x: len(x))"
   ]
  },
  {
   "cell_type": "code",
   "execution_count": null,
   "id": "6af6d5c9",
   "metadata": {},
   "outputs": [],
   "source": [
    "sns.histplot(data=posts, x=posts[\"len_of_post\"]).set(\n",
    "    xlabel=\"Длина новостной публикации\", ylabel=\"Количество постов\"\n",
    ")"
   ]
  },
  {
   "cell_type": "code",
   "execution_count": null,
   "id": "f1b6b400",
   "metadata": {},
   "outputs": [],
   "source": [
    "print(f'Median length of post {posts[\"len_of_post\"].median()}')"
   ]
  },
  {
   "cell_type": "code",
   "execution_count": null,
   "id": "2b9f32b2",
   "metadata": {},
   "outputs": [],
   "source": [
    "print(\n",
    "    f'Percentage of posts with length less that 512 is {posts[posts[\"len_of_post\"] < 512].shape[0] / posts.shape[0]}'\n",
    ")"
   ]
  },
  {
   "cell_type": "code",
   "execution_count": null,
   "id": "ea8b8c4a",
   "metadata": {
    "scrolled": true
   },
   "outputs": [],
   "source": [
    "posts = posts[posts.text_for_sentiment.apply(lambda x: len(x)) < 512]\n",
    "posts['sentiment_analysis_value'] = posts['text_for_sentiment'].apply(lambda x: classifier(x)[0]['label'])\n",
    "posts['sentiment_analysis_score'] = posts['text_for_sentiment'].apply(lambda x: classifier(x)[0]['score'])\n",
    "posts.to_csv('posts_with_sentiment.csv', index=False)"
   ]
  },
  {
   "cell_type": "code",
   "execution_count": null,
   "id": "a7f51a69",
   "metadata": {},
   "outputs": [],
   "source": [
    "posts = pd.read_csv(\"posts_with_sentiment.csv\")"
   ]
  },
  {
   "cell_type": "code",
   "execution_count": null,
   "id": "2b95223e",
   "metadata": {},
   "outputs": [],
   "source": [
    "posts = posts.rename(\n",
    "    columns={\n",
    "        \"sentiment_analysis_value\": \"sentiment_analysis_value_post\",\n",
    "        \"sentiment_analysis_score\": \"sentiment_analysis_score_post\",\n",
    "    }\n",
    ")"
   ]
  },
  {
   "cell_type": "code",
   "execution_count": null,
   "id": "9e71b504",
   "metadata": {},
   "outputs": [],
   "source": [
    "print(posts.sentiment_analysis_value_post.value_counts())"
   ]
  },
  {
   "cell_type": "code",
   "execution_count": null,
   "id": "85af46eb",
   "metadata": {},
   "outputs": [],
   "source": [
    "posts_with_sentiment_for_chi_square = posts[\n",
    "    [\"id\", \"sentiment_analysis_value_post\", \"sentiment_analysis_score_post\"]\n",
    "]\n",
    "posts_with_sentiment_for_chi_square_fot_dict = posts_with_sentiment_for_chi_square.set_index(\n",
    "    \"id\"\n",
    ")\n",
    "dict_posts = posts_with_sentiment_for_chi_square_fot_dict[\n",
    "    \"sentiment_analysis_value_post\"\n",
    "].to_dict()\n",
    "dict_posts_score = posts_with_sentiment_for_chi_square_fot_dict[\n",
    "    \"sentiment_analysis_score_post\"\n",
    "].to_dict()"
   ]
  },
  {
   "cell_type": "code",
   "execution_count": null,
   "id": "b64103dd",
   "metadata": {},
   "outputs": [],
   "source": [
    "data2 = data[\n",
    "    data[\"post_id\"].isin(posts_with_sentiment_for_chi_square.id.unique())\n",
    "].reset_index(drop=True)\n",
    "data2.post_id = data2.post_id.apply(lambda x: int(x))"
   ]
  },
  {
   "cell_type": "code",
   "execution_count": null,
   "id": "49fc49ce",
   "metadata": {},
   "outputs": [],
   "source": [
    "data = pd.read_csv(\"data_with_sentiment.csv\")\n",
    "data2[\"sentiment_post_value\"] = data2.post_id.apply(lambda x: dict_posts[x])\n",
    "data2[\"sentiment_post_score\"] = data2.post_id.apply(lambda x: dict_posts_score[x])\n",
    "crosstab1 = pd.crosstab(\n",
    "    data2[\"sentiment_post_value\"], data2[\"sentiment_analysis_value\"]\n",
    ")"
   ]
  },
  {
   "cell_type": "code",
   "execution_count": null,
   "id": "7ba5a670",
   "metadata": {},
   "outputs": [],
   "source": [
    "crosstab1"
   ]
  },
  {
   "cell_type": "code",
   "execution_count": null,
   "id": "bc22a138",
   "metadata": {},
   "outputs": [],
   "source": [
    "stats.chi2_contingency(crosstab1)"
   ]
  },
  {
   "cell_type": "code",
   "execution_count": null,
   "id": "747e2091",
   "metadata": {},
   "outputs": [],
   "source": [
    "data2_without_neutral = data2[\n",
    "    (data2[\"sentiment_post_value\"] != \"NEUTRAL\")\n",
    "    & (data2[\"sentiment_analysis_value\"] != \"NEUTRAL\")\n",
    "]"
   ]
  },
  {
   "cell_type": "code",
   "execution_count": null,
   "id": "7542608f",
   "metadata": {},
   "outputs": [],
   "source": [
    "crosstab_without_neutral = pd.crosstab(\n",
    "    data2_without_neutral[\"sentiment_post_value\"],\n",
    "    data2_without_neutral[\"sentiment_analysis_value\"],\n",
    ")\n",
    "crosstab_without_neutral"
   ]
  },
  {
   "cell_type": "code",
   "execution_count": null,
   "id": "000dc1ab",
   "metadata": {},
   "outputs": [],
   "source": [
    "stats.chi2_contingency(crosstab_without_neutral)"
   ]
  },
  {
   "cell_type": "markdown",
   "id": "d78bb20f",
   "metadata": {},
   "source": [
    "## To identify which factors contribute to the formation of opinions about kicksharing"
   ]
  },
  {
   "cell_type": "code",
   "execution_count": null,
   "id": "a3297e1e",
   "metadata": {},
   "outputs": [],
   "source": [
    "data = pd.read_csv(\"data_with_sentiment.csv\")"
   ]
  },
  {
   "cell_type": "code",
   "execution_count": null,
   "id": "5ef393e0",
   "metadata": {},
   "outputs": [],
   "source": [
    "sentences = list(data.text_for_sentiment)\n",
    "sentences_test1 = sentences[0:2000]\n",
    "sentences_test2 = sentences[2000:4000]\n",
    "sentences_test3 = sentences[4000:6000]\n",
    "sentences_test4 = sentences[6000:8000]\n",
    "sentences_test5 = sentences[8000:]"
   ]
  },
  {
   "cell_type": "code",
   "execution_count": null,
   "id": "256ffe2c",
   "metadata": {},
   "outputs": [],
   "source": [
    "def mean_pooling(model_output, attention_mask):\n",
    "    token_embeddings = model_output[0]\n",
    "    input_mask_expanded = (\n",
    "        attention_mask.unsqueeze(-1).expand(token_embeddings.size()).float()\n",
    "    )\n",
    "    sum_embeddings = torch.sum(token_embeddings * input_mask_expanded, 1)\n",
    "    sum_mask = torch.clamp(input_mask_expanded.sum(1), min=1e-9)\n",
    "    return sum_embeddings / sum_mask"
   ]
  },
  {
   "cell_type": "code",
   "execution_count": null,
   "id": "9423e5ec",
   "metadata": {},
   "outputs": [],
   "source": [
    "sentences = sentences_test5\n",
    "tokenizer = AutoTokenizer.from_pretrained(\"sberbank-ai/sbert_large_mt_nlu_ru\")\n",
    "model = AutoModel.from_pretrained(\"sberbank-ai/sbert_large_mt_nlu_ru\")\n",
    "encoded_input = tokenizer(sentences, padding=True, truncation=True, max_length=24, return_tensors='pt')\n",
    "with torch.no_grad():\n",
    "    model_output = model(**encoded_input)\n",
    "sentence_embeddings5 = mean_pooling(model_output, encoded_input['attention_mask'])"
   ]
  },
  {
   "cell_type": "code",
   "execution_count": null,
   "id": "f91d18bf",
   "metadata": {},
   "outputs": [],
   "source": [
    "torch.save(sentence_embeddings5, 'embeddings1.pt')\n",
    "torch.save(sentence_embeddings5, 'embeddings2.pt')\n",
    "torch.save(sentence_embeddings5, 'embeddings3.pt')\n",
    "torch.save(sentence_embeddings5, 'embeddings4.pt')\n",
    "torch.save(sentence_embeddings5, 'embeddings5.pt')"
   ]
  },
  {
   "cell_type": "code",
   "execution_count": null,
   "id": "090fbb6b",
   "metadata": {},
   "outputs": [],
   "source": [
    "embeddings1 = torch.load(\"embeddings1.pt\")\n",
    "embeddings2 = torch.load(\"embeddings2.pt\")\n",
    "embeddings3 = torch.load(\"embeddings3.pt\")\n",
    "embeddings4 = torch.load(\"embeddings4.pt\")\n",
    "embeddings5 = torch.load(\"embeddings5.pt\")"
   ]
  },
  {
   "cell_type": "code",
   "execution_count": null,
   "id": "8f511f0b",
   "metadata": {},
   "outputs": [],
   "source": [
    "embeddings_concated = torch.cat(\n",
    "    [embeddings1, embeddings2, embeddings3, embeddings4, embeddings5]\n",
    ")\n",
    "embeddings_concated = torch.load(\"embeddings_concated.pt\")"
   ]
  },
  {
   "cell_type": "code",
   "execution_count": null,
   "id": "9307dbc1",
   "metadata": {},
   "outputs": [],
   "source": [
    "def generate_clusters(message_embeddings, min_cluster_size, random_state=42):\n",
    "\n",
    "    umap_embeddings = umap.UMAP(random_state=42).fit_transform(message_embeddings)\n",
    "\n",
    "    clusters = hdbscan.HDBSCAN(\n",
    "        min_cluster_size=min_cluster_size,\n",
    "        metric=\"euclidean\",\n",
    "        cluster_selection_method=\"eom\",\n",
    "    ).fit(umap_embeddings)\n",
    "\n",
    "    return clusters"
   ]
  },
  {
   "cell_type": "code",
   "execution_count": null,
   "id": "e7a2c2c6",
   "metadata": {
    "scrolled": true
   },
   "outputs": [],
   "source": [
    "clusters_test = generate_clusters(\n",
    "    message_embeddings=embeddings_concated, min_cluster_size=5, random_state=42\n",
    ")\n",
    "clusters_test.labels_\n",
    "data = pd.read_csv(\"data_with_sentiment.csv\")\n",
    "data[\"cluster_id_test\"] = clusters_test.labels_"
   ]
  },
  {
   "cell_type": "code",
   "execution_count": null,
   "id": "6cb8b19a",
   "metadata": {},
   "outputs": [],
   "source": [
    "result_of_test_cluster = pd.DataFrame(data.cluster_id_test.value_counts().head(10))"
   ]
  },
  {
   "cell_type": "code",
   "execution_count": null,
   "id": "43687da5",
   "metadata": {},
   "outputs": [],
   "source": [
    "umap_embeddings = umap.UMAP(random_state=42).fit_transform(embeddings_concated)\n",
    "hdb = hdbscan.HDBSCAN(gen_min_span_tree=True).fit(umap_embeddings)\n",
    "\n",
    "param_dist = {\n",
    "    \"min_cluster_size\": [2, 5, 7, 12, 15, 20, 25, 50, 100],\n",
    "    \"cluster_selection_method\": [\"eom\", \"leaf\"],\n",
    "    \"metric\": [\"euclidean\", \"manhattan\"],\n",
    "}\n",
    "\n",
    "# validity_scroer = \"hdbscan__hdbscan___HDBSCAN__validity_index\"\n",
    "validity_scorer = make_scorer(hdbscan.validity.validity_index, greater_is_better=True)\n",
    "\n",
    "\n",
    "grid_search = GridSearchCV(hdb, param_grid=param_dist, scoring=validity_scorer)\n",
    "\n",
    "grid_search.fit(umap_embeddings)\n",
    "\n",
    "\n",
    "print(f\"Best Parameters {grid_search.best_params_}\")\n",
    "print(f\"DBCV score :{grid_search.best_estimator_.relative_validity_}\")"
   ]
  },
  {
   "cell_type": "code",
   "execution_count": null,
   "id": "0e211511",
   "metadata": {},
   "outputs": [],
   "source": [
    "clusters = generate_clusters(\n",
    "    message_embeddings=embeddings_concated, min_cluster_size=2, random_state=42\n",
    ")\n",
    "clusters.labels_\n",
    "data[\"cluster_id\"] = clusters.labels_\n",
    "data.to_csv(\"data_with_clusters.csv\", index=False)\n",
    "result_of_cluster = pd.DataFrame(data.cluster_id.value_counts().head(10))\n",
    "result_of_cluster.to_excel(\"output10.xlsx\")"
   ]
  },
  {
   "cell_type": "code",
   "execution_count": null,
   "id": "c965d292",
   "metadata": {
    "scrolled": true
   },
   "outputs": [],
   "source": [
    "data_with_clusters = pd.read_csv(\"data_with_clusters.csv\")"
   ]
  },
  {
   "cell_type": "code",
   "execution_count": null,
   "id": "67d52ccd",
   "metadata": {},
   "outputs": [],
   "source": [
    "data_with_clusters_interpretation = data_with_clusters[\n",
    "    [\"text_for_sentiment\", \"cluster_id\"]\n",
    "]"
   ]
  },
  {
   "cell_type": "markdown",
   "id": "0f27a4fd",
   "metadata": {},
   "source": [
    "## To identify how the factor is related to opinions about kicksharing"
   ]
  },
  {
   "cell_type": "code",
   "execution_count": null,
   "id": "e2aeee9e",
   "metadata": {},
   "outputs": [],
   "source": [
    "data_with_clusters_sentiment = data_with_clusters[\n",
    "    data_with_clusters.cluster_id.isin(\n",
    "        [820, 528, 901, 902, 1244, 1380, 939, 1207, 1017, 954, 945, 765, 687]\n",
    "    )\n",
    "]"
   ]
  },
  {
   "cell_type": "code",
   "execution_count": null,
   "id": "f2a722ca",
   "metadata": {},
   "outputs": [],
   "source": [
    "dict_cluster = {\n",
    "    820: \"Авария\",\n",
    "    528: \"Штраф\",\n",
    "    901: \"Власть\",\n",
    "    902: \"Власть\",\n",
    "    1244: \"ПДД\",\n",
    "    1380: \"ПДД\",\n",
    "    939: \"Инвентарь\",\n",
    "    1207: \"Инфраструктура\",\n",
    "    1017: \"Инфраструктура\",\n",
    "    954: \"Инфраструктура\",\n",
    "    945: \"Инфраструктура\",\n",
    "    765: \"ПДД\",\n",
    "    687: \"Опыт других стран\",\n",
    "}"
   ]
  },
  {
   "cell_type": "code",
   "execution_count": null,
   "id": "c1a8fb98",
   "metadata": {},
   "outputs": [],
   "source": [
    "data_with_clusters_sentiment1 = data_with_clusters_sentiment[\n",
    "    [\"text_for_sentiment\", \"cluster_id\", \"sentiment_analysis_value\"]\n",
    "]"
   ]
  },
  {
   "cell_type": "code",
   "execution_count": null,
   "id": "1325c4e7",
   "metadata": {},
   "outputs": [],
   "source": [
    "data_with_clusters_sentiment1[\"cluster_name\"] = data_with_clusters_sentiment1[\n",
    "    \"cluster_id\"\n",
    "].apply(lambda x: dict_cluster[x])"
   ]
  },
  {
   "cell_type": "code",
   "execution_count": null,
   "id": "07d30ec0",
   "metadata": {},
   "outputs": [],
   "source": [
    "data_with_clusters_sentiment1.cluster_name.value_counts()"
   ]
  },
  {
   "cell_type": "code",
   "execution_count": null,
   "id": "473cf81d",
   "metadata": {},
   "outputs": [],
   "source": [
    "crosstab3 = pd.crosstab(\n",
    "    data_with_clusters_sentiment1[\"cluster_name\"],\n",
    "    data_with_clusters_sentiment1[\"sentiment_analysis_value\"],\n",
    ")"
   ]
  },
  {
   "cell_type": "code",
   "execution_count": null,
   "id": "6025f72f",
   "metadata": {},
   "outputs": [],
   "source": [
    "stats.chi2_contingency(crosstab3)"
   ]
  },
  {
   "cell_type": "code",
   "execution_count": null,
   "id": "7465c09c",
   "metadata": {},
   "outputs": [],
   "source": [
    "def residuals(observed, expected):\n",
    "    return (observed - expected) / np.sqrt(expected)"
   ]
  },
  {
   "cell_type": "code",
   "execution_count": null,
   "id": "b8a1ed4c",
   "metadata": {},
   "outputs": [],
   "source": [
    "expected = np.array(\n",
    "    [\n",
    "        [24.14840989, 22.16607774, 4.68551237],\n",
    "        [17.99293286, 16.51590106, 3.49116608],\n",
    "        [9.9434629, 9.12720848, 1.92932862],\n",
    "        [33.14487633, 30.42402827, 6.43109541],\n",
    "        [7.1024735, 6.51943463, 1.37809187],\n",
    "        [23.67491166, 21.73144876, 4.59363958],\n",
    "        [17.99293286, 16.51590106, 3.49116608],\n",
    "    ]\n",
    ")\n",
    "F = np.array(crosstab3)"
   ]
  },
  {
   "cell_type": "code",
   "execution_count": null,
   "id": "f5b4c342",
   "metadata": {},
   "outputs": [],
   "source": [
    "a = residuals(F, expected)\n",
    "resids = pd.DataFrame(a)\n",
    "resids.to_excel(\"resids.xlsx\")\n",
    "expected1 = pd.DataFrame(expected)\n",
    "expected1.to_excel(\"expected.xlsx\")"
   ]
  }
 ],
 "metadata": {
  "kernelspec": {
   "display_name": "Python 3 (ipykernel)",
   "language": "python",
   "name": "python3"
  },
  "language_info": {
   "codemirror_mode": {
    "name": "ipython",
    "version": 3
   },
   "file_extension": ".py",
   "mimetype": "text/x-python",
   "name": "python",
   "nbconvert_exporter": "python",
   "pygments_lexer": "ipython3",
   "version": "3.9.7"
  }
 },
 "nbformat": 4,
 "nbformat_minor": 5
}
